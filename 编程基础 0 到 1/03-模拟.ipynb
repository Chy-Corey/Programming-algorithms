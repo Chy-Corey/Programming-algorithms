{
 "cells": [
  {
   "cell_type": "markdown",
   "id": "911e79e9-3409-4fdf-b391-e33820717ac2",
   "metadata": {
    "jp-MarkdownHeadingCollapsed": true
   },
   "source": [
    "## 1. 棒球比赛（682）"
   ]
  },
  {
   "cell_type": "markdown",
   "id": "68547f24-64c6-4d9c-aaba-2a25a8f34c43",
   "metadata": {},
   "source": [
    "你现在是一场采用特殊赛制棒球比赛的记录员。这场比赛由若干回合组成，过去几回合的得分可能会影响以后几回合的得分。\n",
    "\n",
    "比赛开始时，记录是空白的。你会得到一个记录操作的字符串列表 ops，其中 ops[i] 是你需要记录的第 i 项操作，ops 遵循下述规则：\n",
    "\n",
    "1. 整数 `x` - 表示本回合新获得分数 x\n",
    "2. `\"+\"` - 表示本回合新获得的得分是前**两次**得分的总和。题目数据保证记录此操作时前面总是存在两个有效的分数。\n",
    "3. `\"D\"` - 表示本回合新获得的得分是前**一次**得分的两倍。题目数据保证记录此操作时前面总是存在一个有效的分数。\n",
    "4. `\"C\"` - 表示前**一次**得分无效，将其从记录中移除。题目数据保证记录此操作时前面总是存在一个有效的分数。\n",
    "\n",
    "请你返回记录中所有得分的总和。\n",
    "\n",
    " \n",
    "\n",
    "示例 1：\n",
    "\n",
    "> 输入：ops = [\"5\",\"2\",\"C\",\"D\",\"+\"]\n",
    ">\n",
    "> 输出：30\n",
    ">\n",
    "> 解释：\n",
    ">\n",
    "> - \"5\" - 记录加 5 ，记录现在是 [5]\n",
    "> - \"2\" - 记录加 2 ，记录现在是 [5, 2]\n",
    "> - \"C\" - 使前一次得分的记录无效并将其移除，记录现在是 [5].\n",
    "> - \"D\" - 记录加 2 * 5 = 10 ，记录现在是 [5, 10].\n",
    "> - \"+\" - 记录加 5 + 10 = 15 ，记录现在是 [5, 10, 15].\n",
    "> \n",
    "> 所有得分的总和 5 + 10 + 15 = 30\n",
    "\n",
    "示例 2：\n",
    "\n",
    "> 输入：ops = [\"5\",\"-2\",\"4\",\"C\",\"D\",\"9\",\"+\",\"+\"]\n",
    ">\n",
    "> 输出：27\n",
    "> 解释：\n",
    ">\n",
    "> - \"5\" - 记录加 5 ，记录现在是 [5]\n",
    "> - \"-2\" - 记录加 -2 ，记录现在是 [5, -2]\n",
    "> - \"4\" - 记录加 4 ，记录现在是 [5, -2, 4]\n",
    "> - \"C\" - 使前一次得分的记录无效并将其移除，记录现在是 [5, -2]\n",
    "> - \"D\" - 记录加 2 * -2 = -4 ，记录现在是 [5, -2, -4]\n",
    "> - \"9\" - 记录加 9 ，记录现在是 [5, -2, -4, 9]\n",
    "> - \"+\" - 记录加 -4 + 9 = 5 ，记录现在是 [5, -2, -4, 9, 5]\n",
    "> - \"+\" - 记录加 9 + 5 = 14 ，记录现在是 [5, -2, -4, 9, 5, 14]\n",
    "> \n",
    "> 所有得分的总和 5 + -2 + -4 + 9 + 5 + 14 = 27\n",
    "\n",
    "示例 3：\n",
    "\n",
    "> 输入：ops = [\"1\"]\n",
    ">\n",
    "> 输出：1"
   ]
  },
  {
   "cell_type": "markdown",
   "id": "15e872a9-0cfd-4cb4-b6c9-2898db965d51",
   "metadata": {},
   "source": [
    "### 测试数据"
   ]
  },
  {
   "cell_type": "code",
   "execution_count": 1,
   "id": "e9968aaa-5bf5-4fd6-9f5e-7ab554df21cd",
   "metadata": {},
   "outputs": [],
   "source": [
    "ops = [\"5\",\"-2\",\"4\",\"C\",\"D\",\"9\",\"+\",\"+\"]"
   ]
  },
  {
   "cell_type": "markdown",
   "id": "806e5a83-17ba-4b32-9d49-fca1d9a32f9b",
   "metadata": {},
   "source": [
    "### 代码\n",
    "\n",
    "第一反应是用“堆”来做。"
   ]
  },
  {
   "cell_type": "code",
   "execution_count": 4,
   "id": "6d95135f-e40f-4063-b0bf-61e27d7c0d51",
   "metadata": {},
   "outputs": [
    {
     "name": "stdout",
     "output_type": "stream",
     "text": [
      "27\n"
     ]
    }
   ],
   "source": [
    "class Solution1:\n",
    "    def calPoints(self, operations) -> int:\n",
    "        resList = list()\n",
    "        for data in operations:\n",
    "            if data == \"+\":\n",
    "                resList.append(resList[-1] + resList[-2])\n",
    "            elif data == \"D\":\n",
    "                resList.append(2 * resList[-1])\n",
    "            elif data == \"C\":\n",
    "                resList.pop(-1)\n",
    "            else:\n",
    "                resList.append(int(data))\n",
    "        return sum(resList)    \n",
    "\n",
    "solution1 = Solution1()\n",
    "print(solution1.calPoints(ops))"
   ]
  },
  {
   "cell_type": "markdown",
   "id": "613d51d1-7769-4e09-bb07-bcdb057ce46f",
   "metadata": {},
   "source": [
    "这个方法没问题，就是算完了堆栈以后还要再循环一次求和，有点浪费前一次循环的信息，可以一次循环就得到总和："
   ]
  },
  {
   "cell_type": "code",
   "execution_count": 6,
   "id": "a3add986-7206-4f29-9036-884d51e58541",
   "metadata": {},
   "outputs": [
    {
     "name": "stdout",
     "output_type": "stream",
     "text": [
      "27\n"
     ]
    }
   ],
   "source": [
    "class Solution2:\n",
    "    def calPoints(self, ops) -> int:\n",
    "        ans = 0\n",
    "        points = []\n",
    "        for op in ops:\n",
    "            if op == '+':\n",
    "                pt = points[-1] + points[-2]\n",
    "            elif op == 'D':\n",
    "                pt = points[-1] * 2\n",
    "            elif op == 'C':\n",
    "                ans -= points.pop()\n",
    "                continue\n",
    "            else:\n",
    "                pt = int(op)\n",
    "            ans += pt\n",
    "            points.append(pt)\n",
    "        return ans\n",
    "\n",
    "solution2 = Solution2()\n",
    "print(solution2.calPoints(ops))"
   ]
  },
  {
   "cell_type": "markdown",
   "id": "0dfc9f77-d105-4eb2-a8c9-d6dda96a16f5",
   "metadata": {},
   "source": [
    "完美解决。"
   ]
  },
  {
   "cell_type": "markdown",
   "id": "35cb4740-7e73-40a3-90c5-2e25a5bf8b35",
   "metadata": {
    "jp-MarkdownHeadingCollapsed": true
   },
   "source": [
    "## 2. 机器人能否返回原点（657）"
   ]
  },
  {
   "cell_type": "markdown",
   "id": "02bc73d8-0dca-4c36-84da-73567fe8e7f3",
   "metadata": {},
   "source": [
    "在二维平面上，有一个机器人从原点 (0, 0) 开始。给出它的移动顺序，判断这个机器人在完成移动后是否在 (0, 0) 处结束。\n",
    "\n",
    "移动顺序由字符串 moves 表示。字符 move[i] 表示其第 i 次移动。机器人的有效动作有 R（右），L（左），U（上）和 D（下）。\n",
    "\n",
    "如果机器人在完成所有动作后返回原点，则返回 true。否则，返回 false。\n",
    "\n",
    "注意：机器人“面朝”的方向无关紧要。 “R” 将始终使机器人向右移动一次，“L” 将始终向左移动等。此外，假设每次移动机器人的移动幅度相同。\n",
    "\n",
    " \n",
    "\n",
    "示例 1:\n",
    "\n",
    "> 输入: moves = \"UD\"\n",
    ">\n",
    "> 输出: true\n",
    ">\n",
    "> 解释：机器人向上移动一次，然后向下移动一次。所有动作都具有相同的幅度，因此它最终回到它开始的原点。因此，我们返回 true。\n",
    "\n",
    "示例 2:\n",
    "\n",
    "> 输入: moves = \"LL\"\n",
    ">\n",
    "> 输出: false\n",
    ">\n",
    "> 解释：机器人向左移动两次。它最终位于原点的左侧，距原点有两次 “移动” 的距离。我们返回 false，因为它在移动结束时没有返回原点。"
   ]
  },
  {
   "cell_type": "markdown",
   "id": "9c165cea-654a-4fd0-8fd8-a18c62f71554",
   "metadata": {},
   "source": [
    "### 测试数据"
   ]
  },
  {
   "cell_type": "code",
   "execution_count": 7,
   "id": "7da02d1d-8514-4f20-8be5-673d767b08a9",
   "metadata": {},
   "outputs": [],
   "source": [
    "moves = \"RLUURDDDLU\""
   ]
  },
  {
   "cell_type": "markdown",
   "id": "9b74e0d8-554f-420a-b4dc-c4c6983a72e9",
   "metadata": {},
   "source": [
    "### 代码\n",
    "直接两个量代表南北位置和东西位置。"
   ]
  },
  {
   "cell_type": "code",
   "execution_count": 8,
   "id": "edfe51bd-2e27-4912-b3df-9fe890dbe32c",
   "metadata": {},
   "outputs": [
    {
     "name": "stdout",
     "output_type": "stream",
     "text": [
      "True\n"
     ]
    }
   ],
   "source": [
    "class Solution1:\n",
    "    def judgeCircle(self, moves: str) -> bool:\n",
    "        pos = [0, 0]\n",
    "        for move in moves:\n",
    "            if move == 'U':\n",
    "                pos[0] += 1\n",
    "            elif move == 'D':\n",
    "                pos[0] -= 1\n",
    "            elif move == 'L':\n",
    "                pos[1] += 1\n",
    "            else:\n",
    "                pos[1] -= 1\n",
    "        if pos[0] != 0 or pos[1] != 0:\n",
    "            return False\n",
    "        else:\n",
    "            return True\n",
    "\n",
    "solution1 = Solution1()\n",
    "print(solution1.judgeCircle(moves))"
   ]
  },
  {
   "cell_type": "markdown",
   "id": "ae98c186-c4a4-4d3f-ae90-1bf38eb088d9",
   "metadata": {
    "jp-MarkdownHeadingCollapsed": true
   },
   "source": [
    "## 3. 找出井字棋的获胜者（1275）"
   ]
  },
  {
   "cell_type": "markdown",
   "id": "dc591306-dd37-47f8-8231-48d8b34a271d",
   "metadata": {},
   "source": [
    "A 和 B 在一个 3 x 3 的网格上玩井字棋。\n",
    "\n",
    "井字棋游戏的规则如下：\n",
    "\n",
    "玩家轮流将棋子放在空方格 (\" \") 上。\n",
    "\n",
    "第一个玩家 A 总是用 \"X\" 作为棋子，而第二个玩家 B 总是用 \"O\" 作为棋子。\n",
    "\n",
    "\"X\" 和 \"O\" 只能放在空方格中，而不能放在已经被占用的方格上。\n",
    "\n",
    "只要有 3 个相同的（非空）棋子排成一条直线（行、列、对角线）时，游戏结束。\n",
    "\n",
    "如果所有方块都放满棋子（不为空），游戏也会结束。\n",
    "\n",
    "游戏结束后，棋子无法再进行任何移动。\n",
    "\n",
    "给你一个数组 moves，其中每个元素是大小为 2 的另一个数组（元素分别对应网格的行和列），它按照 A 和 B 的行动顺序（先 A 后 B）记录了两人各自的棋子位置。\n",
    "\n",
    "如果游戏存在获胜者（A 或 B），就返回该游戏的获胜者；如果游戏以平局结束，则返回 \"Draw\"；如果仍会有行动（游戏未结束），则返回 \"Pending\"。\n",
    "\n",
    "你可以假设 moves 都 有效（遵循井字棋规则），网格最初是空的，A 将先行动。\n",
    "\n",
    "示例 1：\n",
    "\n",
    "> 输入：moves = [[0,0],[2,0],[1,1],[2,1],[2,2]]\n",
    ">\n",
    "> 输出：\"A\"\n",
    ">\n",
    "> 解释：\"A\" 获胜，他总是先走。\n",
    ">\n",
    "> \"X  \"    \"X  \"    \"X  \"    \"X  \"    \"X  \"\n",
    ">\n",
    "> \"   \" -> \"   \" -> \" X \" -> \" X \" -> \" X \"\n",
    ">\n",
    "> \"   \"    \"O  \"    \"O  \"    \"OO \"    \"OOX\"\n",
    "\n",
    "示例 2：\n",
    "\n",
    "> 输入：moves = [[0,0],[1,1],[0,1],[0,2],[1,0],[2,0]]\n",
    ">\n",
    "> 输出：\"B\"\n",
    ">\n",
    "> 解释：\"B\" 获胜。\n",
    ">\n",
    "> \"X  \"    \"X  \"    \"XX \"    \"XXO\"    \"XXO\"    \"XXO\"\n",
    ">\n",
    "> \"   \" -> \" O \" -> \" O \" -> \" O \" -> \"XO \" -> \"XO \"\n",
    ">\n",
    "> \"   \"    \"   \"    \"   \"    \"   \"    \"   \"    \"O  \"\n",
    "\n",
    "示例 3：\n",
    "\n",
    "> 输入：moves = [[0,0],[1,1],[2,0],[1,0],[1,2],[2,1],[0,1],[0,2],[2,2]]\n",
    ">\n",
    "> 输出：\"Draw\"\n",
    ">\n",
    "> 解释：由于没有办法再行动，游戏以平局结束。\n",
    ">\n",
    "> \"XXO\"\n",
    ">\n",
    "> \"OOX\"\n",
    ">\n",
    "> \"XOX\"\n",
    "\n",
    "示例 4：\n",
    "\n",
    "> 输入：moves = [[0,0],[1,1]]\n",
    ">\n",
    "> 输出：\"Pending\"\n",
    ">\n",
    "> 解释：游戏还没有结束。\n",
    ">\n",
    "> \"X  \"\n",
    ">\n",
    "> \" O \"\n",
    ">\n",
    "> \"   \""
   ]
  },
  {
   "cell_type": "markdown",
   "id": "58d34868-11a9-452a-a92b-fc53c8ae4fd0",
   "metadata": {},
   "source": [
    "### 代码\n",
    "\n",
    "直接模拟然后 if else 吧。"
   ]
  },
  {
   "cell_type": "code",
   "execution_count": 11,
   "id": "9dac382b-d064-4a94-a7c7-46b2ebebda2d",
   "metadata": {},
   "outputs": [],
   "source": [
    "class Solution:\n",
    "    def tictactoe(self, moves) -> str:\n",
    "        wins = [\n",
    "            [(0, 0), (0, 1), (0, 2)],\n",
    "            [(1, 0), (1, 1), (1, 2)],\n",
    "            [(2, 0), (2, 1), (2, 2)],\n",
    "            [(0, 0), (1, 0), (2, 0)],\n",
    "            [(0, 1), (1, 1), (2, 1)],\n",
    "            [(0, 2), (1, 2), (2, 2)],\n",
    "            [(0, 0), (1, 1), (2, 2)],\n",
    "            [(0, 2), (1, 1), (2, 0)],\n",
    "        ]\n",
    "\n",
    "        def checkwin(S):\n",
    "            for win in wins:\n",
    "                flag = True\n",
    "                for pos in win:\n",
    "                    if pos not in S:\n",
    "                        flag = False\n",
    "                        break\n",
    "                if flag:\n",
    "                    return True\n",
    "            return False\n",
    "\n",
    "        A, B = set(), set()\n",
    "        for i, (x, y) in enumerate(moves):\n",
    "            if i % 2 == 0:\n",
    "                A.add((x, y))\n",
    "                if checkwin(A):\n",
    "                    return \"A\"\n",
    "            else:\n",
    "                B.add((x, y))\n",
    "                if checkwin(B):\n",
    "                    return \"B\"\n",
    "        \n",
    "        return \"Draw\" if len(moves) == 9 else \"Pending\""
   ]
  },
  {
   "cell_type": "markdown",
   "id": "8e6f1453-64ec-460d-aa03-63251c511737",
   "metadata": {},
   "source": [
    "## 4. 困于环中的机器人"
   ]
  },
  {
   "cell_type": "markdown",
   "id": "12ae3a88-a3db-4547-95a4-f94fe6bfbb08",
   "metadata": {},
   "source": [
    "在无限的平面上，机器人最初位于 (0, 0) 处，面朝北方。注意:\n",
    "\n",
    "- 北方向 是y轴的正方向。\n",
    "- 南方向 是y轴的负方向。\n",
    "- 东方向 是x轴的正方向。\n",
    "- 西方向 是x轴的负方向。\n",
    "\n",
    "机器人可以接受下列三条指令之一：\n",
    "\n",
    "- \"G\"：直走 1 个单位\n",
    "- \"L\"：左转 90 度\n",
    "- \"R\"：右转 90 度\n",
    "\n",
    "机器人按顺序执行指令 instructions，并一直重复它们。\n",
    "\n",
    "只有在平面中存在环使得机器人永远无法离开时，返回 true。否则，返回 false。\n",
    "\n",
    " \n",
    "\n",
    "示例 1：\n",
    "\n",
    "> 输入：instructions = \"GGLLGG\"\n",
    ">\n",
    "> 输出：true\n",
    ">\n",
    "> 解释：机器人最初在(0,0)处，面向北方。\n",
    ">\n",
    "> “G”:移动一步。位置:(0,1)方向:北。\n",
    ">\n",
    "> “G”:移动一步。位置:(0,2).方向:北。\n",
    ">\n",
    "> “L”:逆时针旋转90度。位置:(0,2).方向:西。\n",
    ">\n",
    "> “L”:逆时针旋转90度。位置:(0,2)方向:南。\n",
    ">\n",
    "> “G”:移动一步。位置:(0,1)方向:南。\n",
    ">\n",
    "> “G”:移动一步。位置:(0,0)方向:南。\n",
    ">\n",
    "> 重复指令，机器人进入循环:(0,0)——>(0,1)——>(0,2)——>(0,1)——>(0,0)。\n",
    ">\n",
    "> 在此基础上，我们返回true。\n",
    "\n",
    "示例 2：\n",
    "\n",
    "> 输入：instructions = \"GG\"\n",
    ">\n",
    "> 输出：false\n",
    ">\n",
    "> 解释：机器人最初在(0,0)处，面向北方。\n",
    ">\n",
    "> “G”:移动一步。位置:(0,1)方向:北。\n",
    ">\n",
    "> “G”:移动一步。位置:(0,2).方向:北。\n",
    ">\n",
    "> 重复这些指示，继续朝北前进，不会进入循环。\n",
    ">\n",
    "> 在此基础上，返回false。\n",
    "\n",
    "示例 3：\n",
    "\n",
    "> 输入：instructions = \"GL\"\n",
    ">\n",
    "> 输出：true\n",
    ">\n",
    "> 解释：机器人最初在(0,0)处，面向北方。\n",
    ">\n",
    "> “G”:移动一步。位置:(0,1)方向:北。\n",
    ">\n",
    "> “L”:逆时针旋转90度。位置:(0,1).方向:西。\n",
    ">\n",
    "> “G”:移动一步。位置:(- 1,1)方向:西。\n",
    ">\n",
    "> “L”:逆时针旋转90度。位置:(- 1,1)方向:南。\n",
    ">\n",
    "> “G”:移动一步。位置:(- 1,0)方向:南。\n",
    ">\n",
    "> “L”:逆时针旋转90度。位置:(- 1,0)方向:东方。\n",
    ">\n",
    "> “G”:移动一步。位置:(0,0)方向:东方。\n",
    ">\n",
    "> “L”:逆时针旋转90度。位置:(0,0)方向:北。\n",
    ">\n",
    "> 重复指令，机器人进入循环:(0,0)——>(0,1)——>(- 1,1)——>(- 1,0)——>(0,0)。\n",
    ">\n",
    "> 在此基础上，我们返回true。"
   ]
  },
  {
   "cell_type": "markdown",
   "id": "27f08ee4-8ef4-4077-95b9-f6434df11ac5",
   "metadata": {},
   "source": [
    "### 代码\n",
    "\n",
    "找规律，我应该用不上这种，直接抄：\n",
    "\n",
    "[LeetCode-宫水三叶](https://leetcode.cn/problems/robot-bounded-in-circle/solutions/2347537/gong-shui-san-xie-chang-gui-mo-ni-ti-by-hgdtp)"
   ]
  },
  {
   "cell_type": "code",
   "execution_count": 12,
   "id": "3f4353ab-6e15-4fe3-9e4d-d36fdfe03978",
   "metadata": {},
   "outputs": [],
   "source": [
    "# 作者：宫水三叶\n",
    "# 链接：https://leetcode.cn/problems/robot-bounded-in-circle/solutions/2347537/gong-shui-san-xie-chang-gui-mo-ni-ti-by-hgdtp/\n",
    "class Solution:\n",
    "    def isRobotBounded(self, s: str) -> bool:\n",
    "        x, y, d = 0, 0, 0\n",
    "        dirs = [[0, 1], [-1, 0], [0, -1], [1, 0]]\n",
    "        for c in s:\n",
    "            if c == 'G':\n",
    "                x += dirs[d][0]\n",
    "                y += dirs[d][1]\n",
    "            elif c == 'L':\n",
    "                d = (d + 1) % 4\n",
    "            else:\n",
    "                d = ((d - 1) % 4 + 4) % 4\n",
    "        return (x == 0 and y == 0) or d != 0"
   ]
  },
  {
   "cell_type": "code",
   "execution_count": null,
   "id": "c7b72c98-2102-446f-bcb8-ba733e68e3d3",
   "metadata": {},
   "outputs": [],
   "source": []
  }
 ],
 "metadata": {
  "kernelspec": {
   "display_name": "pytorch221",
   "language": "python",
   "name": "pytorch221"
  },
  "language_info": {
   "codemirror_mode": {
    "name": "ipython",
    "version": 3
   },
   "file_extension": ".py",
   "mimetype": "text/x-python",
   "name": "python",
   "nbconvert_exporter": "python",
   "pygments_lexer": "ipython3",
   "version": "3.12.2"
  }
 },
 "nbformat": 4,
 "nbformat_minor": 5
}
