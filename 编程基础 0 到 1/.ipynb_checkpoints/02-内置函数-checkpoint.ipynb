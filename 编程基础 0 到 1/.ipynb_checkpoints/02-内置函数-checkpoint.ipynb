{
 "cells": [
  {
   "cell_type": "markdown",
   "id": "726ae824-966e-4e6c-97ba-25c4eb3803f5",
   "metadata": {},
   "source": [
    "## 1. 最后一个单词的长度（58）"
   ]
  },
  {
   "cell_type": "markdown",
   "id": "3d050f4b-f7ae-4eaa-9ad1-8015540c78de",
   "metadata": {},
   "source": [
    "给你一个字符串 s，由若干单词组成，单词前后用一些空格字符隔开。返回字符串中 最后一个 单词的长度。\n",
    "\n",
    "单词 是指仅由字母组成、不包含任何空格字符的最大子字符串。\n",
    "\n",
    " \n",
    "\n",
    "示例 1：\n",
    "\n",
    "> 输入：s = \"Hello World\"\n",
    ">\n",
    "> 输出：5\n",
    ">\n",
    "> 解释：最后一个单词是“World”，长度为 5。\n",
    "\n",
    "示例 2：\n",
    "\n",
    "> 输入：s = \"   fly me   to   the moon  \"\n",
    ">\n",
    "> 输出：4\n",
    ">\n",
    "> 解释：最后一个单词是“moon”，长度为 4。\n",
    "\n",
    "示例 3：\n",
    "\n",
    "> 输入：s = \"luffy is still joyboy\"\n",
    ">\n",
    "> 输出：6\n",
    ">\n",
    "> 解释：最后一个单词是长度为 6 的“joyboy”。"
   ]
  },
  {
   "cell_type": "markdown",
   "id": "819cf2f0-4a81-4855-90d7-df7dd606589a",
   "metadata": {},
   "source": [
    "### 代码"
   ]
  },
  {
   "cell_type": "code",
   "execution_count": 1,
   "id": "c52ad0c2-0563-4a8c-8132-0d8451e9ff03",
   "metadata": {},
   "outputs": [],
   "source": [
    "class Solution:\n",
    "    def lengthOfLastWord(self, s: str) -> int:\n",
    "        # return len(s.rstrip().split(\" \")[-1])\n",
    "    \n",
    "        i = len(s) - 1\n",
    "        while s[i] == ' ':\n",
    "            i -= 1\n",
    "\n",
    "        j = i - 1\n",
    "        while j >= 0 and s[j] != ' ':\n",
    "            j -= 1\n",
    "\n",
    "        return i - j"
   ]
  },
  {
   "cell_type": "markdown",
   "id": "6cb78b06-fc9e-4325-8322-6997193841d4",
   "metadata": {},
   "source": [
    "## 2. 转换成小写字母（709）"
   ]
  },
  {
   "cell_type": "markdown",
   "id": "0d0a3d30-97ad-4108-a4c1-54c8ae18bca9",
   "metadata": {},
   "source": [
    "给你一个字符串 s ，将该字符串中的大写字母转换成相同的小写字母，返回新的字符串。\n",
    "\n",
    " \n",
    "\n",
    "示例 1：\n",
    "\n",
    "> 输入：s = \"Hello\"\n",
    ">\n",
    "> 输出：\"hello\"\n",
    "\n",
    "示例 2：\n",
    "\n",
    "> 输入：s = \"here\"\n",
    ">\n",
    "> 输出：\"here\"\n",
    "\n",
    "示例 3：\n",
    "\n",
    "> 输入：s = \"LOVELY\"\n",
    ">\n",
    "> 输出：\"lovely\""
   ]
  },
  {
   "cell_type": "markdown",
   "id": "5dc14cbd-86a0-48bc-96f0-52502dee0a68",
   "metadata": {},
   "source": [
    "### 代码"
   ]
  },
  {
   "cell_type": "code",
   "execution_count": 2,
   "id": "f7a6c10a-fe24-4d15-ac0a-e345b585d6e1",
   "metadata": {},
   "outputs": [],
   "source": [
    "class Solution:\n",
    "    def toLowerCase(self, s: str) -> str:\n",
    "        res = list()\n",
    "        for i in s:\n",
    "            if ord(i) >64 and ord(i) < 91:\n",
    "                res.append(chr(ord(i)+32))\n",
    "            else:\n",
    "                res.append(i)\n",
    "           \n",
    "\n",
    "        return \"\".join(res)"
   ]
  },
  {
   "cell_type": "code",
   "execution_count": null,
   "id": "cb6a73c9-8469-4a20-b092-90628bc8f630",
   "metadata": {},
   "outputs": [],
   "source": []
  }
 ],
 "metadata": {
  "kernelspec": {
   "display_name": "pytorch221",
   "language": "python",
   "name": "pytorch221"
  },
  "language_info": {
   "codemirror_mode": {
    "name": "ipython",
    "version": 3
   },
   "file_extension": ".py",
   "mimetype": "text/x-python",
   "name": "python",
   "nbconvert_exporter": "python",
   "pygments_lexer": "ipython3",
   "version": "3.12.2"
  }
 },
 "nbformat": 4,
 "nbformat_minor": 5
}
