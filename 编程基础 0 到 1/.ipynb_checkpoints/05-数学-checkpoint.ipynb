{
 "cells": [
  {
   "cell_type": "markdown",
   "id": "a0ba35d5",
   "metadata": {
    "hide_input": true,
    "jp-MarkdownHeadingCollapsed": true
   },
   "source": [
    "## 1. 在区间范围内统计奇数数目"
   ]
  },
  {
   "cell_type": "markdown",
   "id": "a1a343c5",
   "metadata": {},
   "source": [
    "给你两个非负整数 low 和 high 。请你返回 low 和 high 之间（包括二者）奇数的数目。\n",
    "\n",
    " \n",
    "\n",
    "示例 1：\n",
    "\n",
    "> 输入：low = 3, high = 7\n",
    "> \n",
    "> 输出：3\n",
    "> \n",
    "> 解释：3 到 7 之间奇数数字为 [3,5,7] 。\n",
    "> \n",
    "\n",
    "示例 2：\n",
    "> \n",
    "> 输入：low = 8, high = 10\n",
    "> \n",
    "> 输出：1\n",
    "> \n",
    "> 解释：8 到 10 之间奇数数字为 [9] 。"
   ]
  },
  {
   "cell_type": "markdown",
   "id": "2ccd2edc",
   "metadata": {},
   "source": [
    "### 代码\n",
    "\n",
    "找规律，我找的规律和官方题解不一样。\n",
    "\n",
    "判断两个数字奇数的数量，0，1，2对应不同的规律："
   ]
  },
  {
   "cell_type": "code",
   "execution_count": 1,
   "id": "4ae3d602",
   "metadata": {},
   "outputs": [],
   "source": [
    "class Solution:\n",
    "    def countOdds(self, low: int, high: int) -> int:\n",
    "        res = 0\n",
    "        if low % 2 == 1 or high % 2 == 1:\n",
    "            res += 1\n",
    "        return res + (high - low) // 2"
   ]
  },
  {
   "cell_type": "code",
   "execution_count": 2,
   "id": "25b5d074",
   "metadata": {},
   "outputs": [],
   "source": [
    "# 作者：力扣官方题解\n",
    "# 链接：https://leetcode.cn/problems/count-odd-numbers-in-an-interval-range/solutions/371283/zai-qu-jian-fan-wei-nei-tong-ji-qi-shu-shu-mu-by-l/\n",
    "class Solution:\n",
    "    def countOdds(self, low: int, high: int) -> int:\n",
    "        pre = lambda x: (x + 1) >> 1\n",
    "        return pre(high) - pre(low - 1)"
   ]
  },
  {
   "cell_type": "markdown",
   "id": "d6cb22cc",
   "metadata": {},
   "source": [
    "`>>` 符号表示右移，`<<` 表示左移。"
   ]
  },
  {
   "cell_type": "markdown",
   "id": "d06f9ddb",
   "metadata": {
    "jp-MarkdownHeadingCollapsed": true
   },
   "source": [
    "## 2. 去掉最低工资和最高工资后的工资平均值"
   ]
  },
  {
   "cell_type": "markdown",
   "id": "ea38c4d3",
   "metadata": {},
   "source": [
    "给你一个整数数组 salary ，数组里每个数都是 唯一 的，其中 salary[i] 是第 i 个员工的工资。\n",
    "\n",
    "请你返回去掉最低工资和最高工资以后，剩下员工工资的平均值。\n",
    "\n",
    " \n",
    "\n",
    "示例 1：\n",
    "\n",
    "> 输入：salary = [4000,3000,1000,2000]\n",
    "> \n",
    "> 输出：2500.00000\n",
    "> \n",
    "> 解释：最低工资和最高工资分别是 1000 和 4000 。\n",
    "> \n",
    "> 去掉最低工资和最高工资以后的平均工资是 (2000+3000)/2= 2500\n",
    "> \n",
    "示例 2：\n",
    "> \n",
    "> 输入：salary = [1000,2000,3000]\n",
    "> \n",
    "> 输出：2000.00000\n",
    "> \n",
    "> 解释：最低工资和最高工资分别是 1000 和 3000 。\n",
    "> \n",
    "> 去掉最低工资和最高工资以后的平均工资是 (2000)/1= 2000\n",
    "> \n",
    "示例 3：\n",
    "> \n",
    "> 输入：salary = [6000,5000,4000,3000,2000,1000]\n",
    "> \n",
    "> 输出：3500.00000\n",
    "> \n",
    "示例 4：\n",
    "> \n",
    "> 输入：salary = [8000,9000,2000,3000,6000,1000]\n",
    "> \n",
    "> 输出：4750.00000"
   ]
  },
  {
   "cell_type": "markdown",
   "id": "1cb50675",
   "metadata": {},
   "source": [
    "### 代码\n",
    "\n",
    "很简单，遍历一遍求和，并且更新最高和最低就行。"
   ]
  },
  {
   "cell_type": "code",
   "execution_count": 3,
   "id": "8e9c4540",
   "metadata": {},
   "outputs": [],
   "source": [
    "from typing import List\n",
    "\n",
    "class Solution:\n",
    "    def average(self, salary: List[int]) -> float:\n",
    "        min = salary[0]\n",
    "        max = 0\n",
    "        sum = 0\n",
    "        for data in salary:\n",
    "            sum += data\n",
    "            if data < min:\n",
    "                min = data\n",
    "            elif data > max:\n",
    "                max = data\n",
    "        return (sum -max - min) / (len(salary) - 2)"
   ]
  },
  {
   "cell_type": "markdown",
   "id": "f15feec8",
   "metadata": {
    "jp-MarkdownHeadingCollapsed": true
   },
   "source": [
    "## 3. 柠檬水找零"
   ]
  },
  {
   "cell_type": "markdown",
   "id": "352e13ba",
   "metadata": {},
   "source": [
    "在柠檬水摊上，每一杯柠檬水的售价为 5 美元。顾客排队购买你的产品，（按账单 bills 支付的顺序）一次购买一杯。\n",
    "\n",
    "每位顾客只买一杯柠檬水，然后向你付 5 美元、10 美元或 20 美元。你必须给每个顾客正确找零，也就是说净交易是每位顾客向你支付 5 美元。\n",
    "\n",
    "注意，一开始你手头没有任何零钱。\n",
    "\n",
    "给你一个整数数组 bills ，其中 bills[i] 是第 i 位顾客付的账。如果你能给每位顾客正确找零，返回 true ，否则返回 false 。\n",
    "\n",
    " \n",
    "\n",
    "示例 1：\n",
    "\n",
    "> 输入：bills = [5,5,5,10,20]\n",
    "\n",
    "> 输出：true\n",
    "> \n",
    "> 解释：\n",
    "> \n",
    "> 前 3 位顾客那里，我们按顺序收取 3 张 5 美元的钞票。\n",
    "> \n",
    "> 第 4 位顾客那里，我们收取一张 10 美元的钞票，并返还 5 美元。\n",
    "> \n",
    "> 第 5 位顾客那里，我们找还一张 10 美元的钞票和一张 5 美元的钞票。\n",
    "> \n",
    "> 由于所有客户都得到了正确的找零，所以我们输出 true。\n",
    "> \n",
    "\n",
    "示例 2：\n",
    "> \n",
    "> 输入：bills = [5,5,10,10,20]\n",
    "> \n",
    "> 输出：false\n",
    "> \n",
    "> 解释：\n",
    "> \n",
    "> 前 2 位顾客那里，我们按顺序收取 2 张 5 美元的钞票。\n",
    "> \n",
    "> 对于接下来的 2 位顾客，我们收取一张 10 美元的钞票，然后返还 5 美元。\n",
    "> \n",
    "> 对于最后一位顾客，我们无法退回 15 美元，因为我们现在只有两张 10 美元的钞票。\n",
    "> \n",
    "> 由于不是每位顾客都得到了正确的找零，所以答案是 false。"
   ]
  },
  {
   "cell_type": "markdown",
   "id": "a04edc2a",
   "metadata": {},
   "source": [
    "### 代码\n",
    "\n",
    "直接模拟"
   ]
  },
  {
   "cell_type": "code",
   "execution_count": 4,
   "id": "9d2d232c",
   "metadata": {},
   "outputs": [],
   "source": [
    "# 作者：灵茶山艾府\n",
    "# 链接：https://leetcode.cn/problems/lemonade-change/solutions/2353707/fen-lei-tao-lun-jian-ji-xie-fa-pythonjav-37oe/\n",
    "\n",
    "class Solution:\n",
    "    def lemonadeChange(self, bills: List[int]) -> bool:\n",
    "        five = ten = 0\n",
    "        for b in bills:\n",
    "            if b == 5:  # 无需找零\n",
    "                five += 1\n",
    "            elif b == 10:  # 返还 5\n",
    "                five -= 1\n",
    "                ten += 1\n",
    "            elif ten:  # 此时 b=20，返还 10+5\n",
    "                five -= 1\n",
    "                ten -= 1\n",
    "            else:  # 此时 b=20，返还 5+5+5\n",
    "                five -= 3\n",
    "            if five < 0:  # 无法正确找零\n",
    "                return False\n",
    "        return True"
   ]
  },
  {
   "cell_type": "markdown",
   "id": "b29cf8dd",
   "metadata": {
    "jp-MarkdownHeadingCollapsed": true
   },
   "source": [
    "## 4. 三角形的最大周长"
   ]
  },
  {
   "cell_type": "markdown",
   "id": "cde4a2e0",
   "metadata": {},
   "source": [
    "给定由一些正数（代表长度）组成的数组 nums ，返回 由其中三个长度组成的、面积不为零的三角形的最大周长 。如果不能形成任何面积不为零的三角形，返回 0。\n",
    "\n",
    " \n",
    "\n",
    "示例 1：\n",
    "\n",
    "> 输入：nums = [2,1,2]\n",
    "> \n",
    "> 输出：5\n",
    "> \n",
    "> 解释：你可以用三个边长组成一个三角形:1 2 2。\n",
    "\n",
    "示例 2：\n",
    "\n",
    "> 输入：nums = [1,2,1,10]\n",
    "> \n",
    "> 输出：0\n",
    "> \n",
    "> 解释：\n",
    "> \n",
    "> 你不能用边长 1,1,2 来组成三角形。\n",
    "> \n",
    "> 不能用边长 1,1,10 来构成三角形。\n",
    "> \n",
    "> 不能用边长 1、2 和 10 来构成三角形。\n",
    "> \n",
    "> 因为我们不能用任何三条边长来构成一个非零面积的三角形，所以我们返回 0。"
   ]
  },
  {
   "cell_type": "markdown",
   "id": "94cd4089",
   "metadata": {},
   "source": [
    "### 代码\n",
    "排完序从后往前找"
   ]
  },
  {
   "cell_type": "code",
   "execution_count": 5,
   "id": "8b625456",
   "metadata": {},
   "outputs": [],
   "source": [
    "class Solution:\n",
    "    def largestPerimeter(self, nums: List[int]) -> int:\n",
    "        nums.sort()\n",
    "        i = 0\n",
    "        n = len(nums)\n",
    "        for _ in nums:\n",
    "            if nums[n - i - 1] < nums[n - i - 2] + nums[n - i - 3]:\n",
    "                return nums[n - i - 2] + nums[n - i - 3] + nums[n - i - 1]\n",
    "            i += 1\n",
    "            if i == n - 2:\n",
    "                return 0"
   ]
  },
  {
   "cell_type": "markdown",
   "id": "c58c70a4",
   "metadata": {},
   "source": [
    "写的比较丑陋，改进一下："
   ]
  },
  {
   "cell_type": "code",
   "execution_count": 6,
   "id": "b2852763",
   "metadata": {},
   "outputs": [],
   "source": [
    "class Solution:\n",
    "    def largestPerimeter(self, nums: List[int]) -> int:\n",
    "        nums.sort(reverse=True)\n",
    "        for i in range(len(nums)-2):\n",
    "            if nums[i]<nums[i+1]+nums[i+2]:\n",
    "                return nums[i]+nums[i+1]+nums[i+2]\n",
    "        return 0"
   ]
  },
  {
   "cell_type": "markdown",
   "id": "37320564",
   "metadata": {
    "jp-MarkdownHeadingCollapsed": true
   },
   "source": [
    "## 5. 缀点成线"
   ]
  },
  {
   "attachments": {
    "image-2.png": {
     "image/png": "[encoded data removed]"
    },
    "image.png": {
     "image/png": "[encoded data removed]"
    }
   },
   "cell_type": "markdown",
   "id": "ecc258b6",
   "metadata": {},
   "source": [
    "给定一个数组 coordinates ，其中 coordinates[i] = [x, y] ， [x, y] 表示横坐标为 x、纵坐标为 y 的点。请你来判断，这些点是否在该坐标系中属于同一条直线上。\n",
    "\n",
    " \n",
    "\n",
    "示例 1：\n",
    "\n",
    "> ![image.png](attachment:image.png)\n",
    "> \n",
    "> 输入：coordinates = [[1,2],[2,3],[3,4],[4,5],[5,6],[6,7]]\n",
    "> \n",
    "> 输出：true\n",
    "\n",
    "示例 2：\n",
    "\n",
    "> ![image-2.png](attachment:image-2.png)\n",
    "> \n",
    "> 输入：coordinates = [[1,1],[2,2],[3,4],[4,5],[5,6],[7,7]]\n",
    ">\n",
    "> 输出：false"
   ]
  },
  {
   "cell_type": "markdown",
   "id": "3bb4d244",
   "metadata": {},
   "source": [
    "### 测试数据"
   ]
  },
  {
   "cell_type": "code",
   "execution_count": 7,
   "id": "b1abf43d",
   "metadata": {},
   "outputs": [],
   "source": [
    "coordinates = [[1,1],[2,2],[3,4],[4,5],[5,6],[7,7]]"
   ]
  },
  {
   "cell_type": "markdown",
   "id": "aecd0b54",
   "metadata": {},
   "source": [
    "### 代码\n",
    "两点确定一条直线"
   ]
  },
  {
   "cell_type": "code",
   "execution_count": 9,
   "id": "c8060323",
   "metadata": {},
   "outputs": [
    {
     "name": "stdout",
     "output_type": "stream",
     "text": [
      "False\n"
     ]
    }
   ],
   "source": [
    "class Solution:\n",
    "    def checkStraightLine(self, coordinates: List[List[int]]) -> bool:\n",
    "        if coordinates[1][0] - coordinates[0][0] == 0:\n",
    "            for i in range(len(coordinates) - 2):\n",
    "                if (coordinates[i + 2][0] - coordinates[i + 1][0]) != 0:\n",
    "                    return False\n",
    "            return True\n",
    "\n",
    "        k = (coordinates[1][1] - coordinates[0][1]) / (coordinates[1][0] - coordinates[0][0])\n",
    "        for i in range(len(coordinates) - 2):\n",
    "            try:\n",
    "                if (coordinates[i + 2][1] - coordinates[i + 1][1]) / (coordinates[i + 2][0] - coordinates[i + 1][0]) != k:\n",
    "                    return False\n",
    "            except:\n",
    "                return False\n",
    "        return True\n",
    "    \n",
    "\n",
    "solution = Solution()\n",
    "print(solution.checkStraightLine(coordinates))"
   ]
  },
  {
   "cell_type": "markdown",
   "id": "738442aa",
   "metadata": {},
   "source": [
    "要防止除 0 的情况，所以写了 try except。"
   ]
  },
  {
   "cell_type": "markdown",
   "id": "835b2d0d",
   "metadata": {
    "jp-MarkdownHeadingCollapsed": true
   },
   "source": [
    "## 6. 二进制求和"
   ]
  },
  {
   "cell_type": "markdown",
   "id": "1c04729c",
   "metadata": {},
   "source": [
    "给你两个二进制字符串 a 和 b ，以二进制字符串的形式返回它们的和。\n",
    "\n",
    " \n",
    "\n",
    "示例 1：\n",
    "\n",
    "> 输入:a = \"11\", b = \"1\"\n",
    "> \n",
    "> 输出：\"100\"\n",
    "\n",
    "示例 2：\n",
    "\n",
    "> 输入：a = \"1010\", b = \"1011\"\n",
    "> \n",
    "> 输出：\"10101\""
   ]
  },
  {
   "cell_type": "markdown",
   "id": "108c32da",
   "metadata": {},
   "source": [
    "### 测试数据"
   ]
  },
  {
   "cell_type": "code",
   "execution_count": 11,
   "id": "bc465706",
   "metadata": {},
   "outputs": [],
   "source": [
    "a = \"1010\"\n",
    "b = \"1011\""
   ]
  },
  {
   "cell_type": "markdown",
   "id": "bca199a2",
   "metadata": {},
   "source": [
    "### 代码\n",
    "\n",
    "感觉还是模拟二进制，没什么数据结构或者算法思路，直接抄。"
   ]
  },
  {
   "cell_type": "code",
   "execution_count": 12,
   "id": "7002a7f4",
   "metadata": {},
   "outputs": [
    {
     "name": "stdout",
     "output_type": "stream",
     "text": [
      "10101\n"
     ]
    }
   ],
   "source": [
    "# 作者：柯慕灵\n",
    "# 链接：https://leetcode.cn/problems/add-binary/solutions/2323494/python3shuang-zhi-zhen-ji-qi-you-ya-by-k-wnmz/\n",
    "\n",
    "\n",
    "class Solution:\n",
    "    def addBinary(self, a: str, b: str) -> str:\n",
    "        while len(a) > len(b):\n",
    "            b = \"0\" + b\n",
    "\n",
    "        while len(a) < len(b):\n",
    "            a = \"0\" + a\n",
    "\n",
    "        tmp = 0\n",
    "        a, b = list(a), list(b)\n",
    "        for i in range(len(a) - 1, -1, -1):\n",
    "            cur = int(a[i]) + int(b[i]) + tmp\n",
    "            if cur == 3:\n",
    "                b[i] = \"1\"\n",
    "                tmp = 1\n",
    "            elif cur == 2:\n",
    "                b[i] = \"0\"\n",
    "                tmp = 1\n",
    "            elif cur == 1:\n",
    "                b[i] = \"1\"\n",
    "                tmp = 0\n",
    "            else:\n",
    "                b[i] = \"0\"\n",
    "                tmp = 0\n",
    "        if tmp == 1:\n",
    "            b = [\"1\"] + b\n",
    "        return \"\".join(b)\n",
    "    \n",
    "solution = Solution()\n",
    "print(solution.addBinary(a, b))"
   ]
  },
  {
   "cell_type": "markdown",
   "id": "ac9b09b0",
   "metadata": {},
   "source": [
    "作者说用了双指针，双指针在哪里？"
   ]
  },
  {
   "cell_type": "markdown",
   "id": "33e6ca13-f9b1-4a7d-9a21-ae68fc960a69",
   "metadata": {
    "jp-MarkdownHeadingCollapsed": true
   },
   "source": [
    "## 7. 字符串相乘"
   ]
  },
  {
   "cell_type": "markdown",
   "id": "3dd44b9b-f7b4-4a7f-9850-36a4ab36eacc",
   "metadata": {},
   "source": [
    "给定两个以字符串形式表示的非负整数 num1 和 num2，返回 num1 和 num2 的乘积，它们的乘积也表示为字符串形式。\n",
    "\n",
    "注意：不能使用任何内置的 BigInteger 库或直接将输入转换为整数。\n",
    "\n",
    " \n",
    "\n",
    "示例 1:\n",
    "\n",
    "> 输入: num1 = \"2\", num2 = \"3\"\n",
    "> \n",
    "> 输出: \"6\"\n",
    "\n",
    "示例 2:\n",
    "> 输入: num1 = \"123\", num2 = \"456\"\n",
    "> \n",
    "> 输出: \"56088\""
   ]
  },
  {
   "cell_type": "markdown",
   "id": "8a2850d8-f6c1-4478-bb00-689d0f85dd60",
   "metadata": {},
   "source": [
    "### 测试数据"
   ]
  },
  {
   "cell_type": "code",
   "execution_count": 17,
   "id": "a28ae008-4879-41aa-b090-4ea00cd3ea99",
   "metadata": {},
   "outputs": [],
   "source": [
    "num1 = \"12\"\n",
    "num2 = \"45\""
   ]
  },
  {
   "cell_type": "markdown",
   "id": "50ead899-099b-414f-a94c-f43911b14656",
   "metadata": {},
   "source": [
    "### 代码\n",
    "\n",
    "不让直接转换就模拟真实的运算规则吧。"
   ]
  },
  {
   "cell_type": "code",
   "execution_count": 23,
   "id": "d5f616bb-1389-4a8c-994b-edd0ca012dcb",
   "metadata": {},
   "outputs": [
    {
     "name": "stdout",
     "output_type": "stream",
     "text": [
      "540\n"
     ]
    }
   ],
   "source": [
    "class Solution1:\n",
    "    def multiply(self, num1: str, num2: str) -> str:\n",
    "        sum = 0\n",
    "        num1 = list(num1)\n",
    "        num2 = list(num2)\n",
    "        l1 = len(num1)\n",
    "        l2 = len(num2)\n",
    "        for i in range(l1 - 1, -1, -1):\n",
    "            for j in range(l2 - 1, -1, -1):\n",
    "                sum += (10 ** (l1 - i - 1)) * int(num1[i]) * (10 ** (l2 - j -1)) * int(num2[j])\n",
    "        return str(sum)\n",
    "\n",
    "solution1 = Solution1()\n",
    "print(solution1.multiply(num1, num2))"
   ]
  },
  {
   "cell_type": "markdown",
   "id": "d7e7a7e4-dd44-4d7b-99cf-d605b8a6abe6",
   "metadata": {},
   "source": [
    "里面用乘方来进位虽然方便，但是不高效，抄一下别人的："
   ]
  },
  {
   "cell_type": "code",
   "execution_count": 24,
   "id": "4136f6ae-cc62-4e3b-9a05-15942cec1616",
   "metadata": {},
   "outputs": [],
   "source": [
    "# 作者：桌桌\n",
    "# 链接：https://leetcode.cn/problems/multiply-strings/solutions/1088622/zui-jian-dan-de-li-jie-pythonmo-ni-cheng-1krb/\n",
    "class Solution2:\n",
    "    def multiply(self, num1: str, num2: str) -> str:\n",
    "        f1 = 1\n",
    "        ans = 0\n",
    "        # 倒序遍历\n",
    "        for i in range(len(num1)-1,-1,-1):\n",
    "            # 进位数\n",
    "            f2 = 1\n",
    "            # n1 乘以进位数\n",
    "            n1 = int(num1[i]) * f1\n",
    "\n",
    "            # 倒序遍历\n",
    "            for j in range(len(num2)-1,-1,-1):\n",
    "                n2 = int(num2[j]) * f2   \n",
    "                ans += n1 * n2 \n",
    "\n",
    "                # 进位数处理 *10\n",
    "                f2 *=10\n",
    "            f1 *=10\n",
    "        return str(ans)"
   ]
  },
  {
   "cell_type": "markdown",
   "id": "b849be1f-2a29-461d-8c70-207a40aeec75",
   "metadata": {},
   "source": [
    "## 8. `Pow(x, n)`"
   ]
  },
  {
   "cell_type": "markdown",
   "id": "a1f10ba5-1499-4516-b058-a24ac5e15d01",
   "metadata": {},
   "source": [
    "实现 pow(x, n) ，即计算 x 的整数 n 次幂函数（即，xn ）。\n",
    "\n",
    " \n",
    "\n",
    "示例 1：\n",
    "\n",
    "> 输入：x = 2.00000, n = 10\n",
    "> \n",
    "> 输出：1024.00000\n",
    "\n",
    "示例 2：\n",
    "\n",
    "> 输入：x = 2.10000, n = 3\n",
    "> \n",
    "> 输出：9.26100\n",
    "\n",
    "示例 3：\n",
    "\n",
    "> 输入：x = 2.00000, n = -2\n",
    "> \n",
    "> 输出：0.25000\n",
    "> 解释：2-2 = 1/22 = 1/4 = 0.25"
   ]
  },
  {
   "cell_type": "markdown",
   "id": "e877ea0c-3236-4d65-9211-27665522f30c",
   "metadata": {},
   "source": [
    "### 测试数据"
   ]
  },
  {
   "cell_type": "code",
   "execution_count": 25,
   "id": "11b5f1be-3961-40dd-9254-f63725158fe6",
   "metadata": {},
   "outputs": [],
   "source": [
    "x = 2.10000\n",
    "n = 3"
   ]
  },
  {
   "cell_type": "markdown",
   "id": "09fc1b5b-a9c6-41e0-88ce-ab08d887d0b8",
   "metadata": {},
   "source": [
    "### 代码"
   ]
  },
  {
   "cell_type": "markdown",
   "id": "a9d7538f-f2fe-42cb-be38-1ce16615fb1f",
   "metadata": {},
   "source": [
    "快速幂算法，作为新手我肯定想不出来，直接抄吧。\n",
    "\n",
    "[快速幂算法 --LeetCode](https://leetcode.cn/problems/powx-n/solutions/238559/powx-n-by-leetcode-solution)"
   ]
  },
  {
   "cell_type": "code",
   "execution_count": 27,
   "id": "15df4090-a4ca-4db7-95ff-07ae0816d871",
   "metadata": {},
   "outputs": [
    {
     "name": "stdout",
     "output_type": "stream",
     "text": [
      "9.261000000000001\n"
     ]
    }
   ],
   "source": [
    "# 递归快速幂\n",
    "class Solution1:\n",
    "    def myPow(self, x: float, n: int) -> float:\n",
    "        def quickMul(N):\n",
    "            if N == 0:\n",
    "                return 1.0\n",
    "            y = quickMul(N // 2)\n",
    "            return y * y if N % 2 == 0 else y * y * x\n",
    "        \n",
    "        return quickMul(n) if n >= 0 else 1.0 / quickMul(-n)\n",
    "\n",
    "solution1 = Solution1()\n",
    "print(solution1.myPow(x, n))"
   ]
  },
  {
   "cell_type": "code",
   "execution_count": 28,
   "id": "782dd0d4-e78f-43c6-b8c2-16a9e04f648a",
   "metadata": {},
   "outputs": [
    {
     "name": "stdout",
     "output_type": "stream",
     "text": [
      "9.261000000000001\n"
     ]
    }
   ],
   "source": [
    "# 循环/迭代快速幂\n",
    "class Solution2:\n",
    "    def myPow(self, x: float, n: int) -> float:\n",
    "        def quickMul(N):\n",
    "            ans = 1.0\n",
    "            # 贡献的初始值为 x\n",
    "            x_contribute = x\n",
    "            # 在对 N 进行二进制拆分的同时计算答案\n",
    "            while N > 0:\n",
    "                if N % 2 == 1:\n",
    "                    # 如果 N 二进制表示的最低位为 1，那么需要计入贡献\n",
    "                    ans *= x_contribute\n",
    "                # 将贡献不断地平方\n",
    "                x_contribute *= x_contribute\n",
    "                # 舍弃 N 二进制表示的最低位，这样我们每次只要判断最低位即可\n",
    "                N //= 2\n",
    "            return ans\n",
    "        \n",
    "        return quickMul(n) if n >= 0 else 1.0 / quickMul(-n)\n",
    "\n",
    "solution2 = Solution2()\n",
    "print(solution2.myPow(x, n))"
   ]
  },
  {
   "cell_type": "markdown",
   "id": "95da6884-5307-42f9-bfb9-5f2a9a4af865",
   "metadata": {},
   "source": [
    "递归的时间复杂度是 $O(\\log{n})$ ，为什么？好好思考一下。\n",
    "\n",
    "循环的没看，感觉记不住。"
   ]
  },
  {
   "cell_type": "code",
   "execution_count": null,
   "id": "c6bc4303-d19f-409d-ba8c-c2a60407d480",
   "metadata": {},
   "outputs": [],
   "source": []
  }
 ],
 "metadata": {
  "hide_input": false,
  "kernelspec": {
   "display_name": "Python 3 (ipykernel)",
   "language": "python",
   "name": "python3"
  },
  "language_info": {
   "codemirror_mode": {
    "name": "ipython",
    "version": 3
   },
   "file_extension": ".py",
   "mimetype": "text/x-python",
   "name": "python",
   "nbconvert_exporter": "python",
   "pygments_lexer": "ipython3",
   "version": "3.11.5"
  }
 },
 "nbformat": 4,
 "nbformat_minor": 5
}
