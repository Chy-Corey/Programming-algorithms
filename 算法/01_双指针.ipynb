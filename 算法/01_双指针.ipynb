{
 "cells": [
  {
   "cell_type": "markdown",
   "id": "97e62e1f-1cc2-4776-9b6a-6c4f08196703",
   "metadata": {},
   "source": [
    "##  为什么双指针更快？"
   ]
  },
  {
   "cell_type": "markdown",
   "id": "ff3b6fc5-4657-4927-9def-6c1a5394470b",
   "metadata": {},
   "source": [
    "举一个例子：判断已经排序的数组中是否存在两数之和为给定值的问题、寻找数组中的特定对等。"
   ]
  },
  {
   "cell_type": "code",
   "execution_count": 6,
   "id": "7850b600-4b92-4ec2-a5f6-fb5205e58af5",
   "metadata": {},
   "outputs": [],
   "source": [
    "# 要求两数之和为 10 返回对应的二元组。\n",
    "\n",
    "nums = [x for x in range(10000)]\n",
    "target = 10000"
   ]
  },
  {
   "cell_type": "markdown",
   "id": "b92bc9ce-3e3f-469b-8c54-4bded76b5216",
   "metadata": {},
   "source": [
    "如果用两次循环，时间复杂度就是$O(N^2)$"
   ]
  },
  {
   "cell_type": "code",
   "execution_count": 7,
   "id": "b0b63dff-f8d7-4b00-ad8d-001ed1a5858a",
   "metadata": {},
   "outputs": [
    {
     "name": "stdout",
     "output_type": "stream",
     "text": [
      "4.409749984741211\n"
     ]
    }
   ],
   "source": [
    "import time\n",
    "\n",
    "class Solution1:\n",
    "    def two_sum(self, nums, target):\n",
    "        res = []\n",
    "        for num1 in nums:\n",
    "            for num2 in nums:\n",
    "                if num1 + num2 == target:\n",
    "                    res.append([num1, num2])\n",
    "        return res\n",
    "\n",
    "solution1 = Solution1()\n",
    "start_time = time.time()\n",
    "solution1.two_sum(nums, target)\n",
    "end_time = time.time()\n",
    "print(end_time - start_time)"
   ]
  },
  {
   "cell_type": "markdown",
   "id": "dad22dc1-ba14-4eeb-b46e-a33dcfdff823",
   "metadata": {},
   "source": [
    "观察这个方法，它没有充分运用“排序”这个信息。如果最小的加上最大的比目标小，那么最小的这个就不合适；反之则最大的这个不合适，所以用双指针来做会更快，因为用到了排序的信息。"
   ]
  },
  {
   "cell_type": "code",
   "execution_count": 8,
   "id": "9cf18411-9969-42cc-ad45-1497446fdbc9",
   "metadata": {},
   "outputs": [
    {
     "name": "stdout",
     "output_type": "stream",
     "text": [
      "0.005075931549072266\n"
     ]
    }
   ],
   "source": [
    "import time\n",
    "\n",
    "class Solution2:\n",
    "    def two_sum(self, nums, target):\n",
    "        left, right = 0, len(nums) - 1\n",
    "        res = []\n",
    "        while left < right:\n",
    "            current_sum = nums[left] + nums[right]\n",
    "            if current_sum == target:\n",
    "                res.append((nums[left], nums[right]))\n",
    "                left += 1\n",
    "                right -= 1\n",
    "            # 跳过重复的元素，防止重复的二元组\n",
    "                while left < right and nums[left] == nums[left - 1]:\n",
    "                    left += 1\n",
    "                while left < right and nums[right] == nums[right + 1]:\n",
    "                    right -= 1\n",
    "            elif current_sum < target:\n",
    "                left += 1\n",
    "            else:\n",
    "                right -= 1\n",
    "        return res\n",
    "\n",
    "solution2 = Solution2()\n",
    "start_time = time.time()\n",
    "solution2.two_sum(nums, target)\n",
    "end_time = time.time()\n",
    "print(end_time - start_time)"
   ]
  },
  {
   "cell_type": "markdown",
   "id": "b3321d4b-dd89-48fb-ab89-101e4232fb71",
   "metadata": {},
   "source": [
    "可以看到时间差距非常大。"
   ]
  },
  {
   "cell_type": "markdown",
   "id": "eba14094-0230-4e32-b303-c11f917b0c38",
   "metadata": {},
   "source": [
    "## 01. 三数之和"
   ]
  },
  {
   "cell_type": "markdown",
   "id": "e6c48d25-faaa-4cba-99b3-30e1ca397f47",
   "metadata": {},
   "source": [
    "给你一个整数数组 nums ，判断是否存在三元组 [nums[i], nums[j], nums[k]] 满足 i != j、i != k 且 j != k ，同时还满足 nums[i] + nums[j] + nums[k] == 0 。请\n",
    "\n",
    "你返回所有和为 0 且不重复的三元组。\n",
    "\n",
    "注意：答案中不可以包含重复的三元组。\n",
    "\n",
    "示例 1：\n",
    "\n",
    "> 输入：nums = [-1,0,1,2,-1,-4]\n",
    "> \n",
    "> 输出：[[-1,-1,2],[-1,0,1]]\n",
    "> \n",
    "> 解释：\n",
    "> \n",
    "> nums[0] + nums[1] + nums[2] = (-1) + 0 + 1 = 0 。\n",
    "> \n",
    "> nums[1] + nums[2] + nums[4] = 0 + 1 + (-1) = 0 。\n",
    "> \n",
    "> nums[0] + nums[3] + nums[4] = (-1) + 2 + (-1) = 0 。\n",
    "> \n",
    "> 不同的三元组是 [-1,0,1] 和 [-1,-1,2] 。\n",
    "> \n",
    "> 注意，输出的顺序和三元组的顺序并不重要。\n",
    "\n",
    "示例 2：\n",
    "\n",
    "> 输入：nums = [0,1,1]\n",
    "> \n",
    "> 输出：[]\n",
    "> \n",
    "> 解释：唯一可能的三元组和不为 0 。\n",
    "\n",
    "示例 3：\n",
    "\n",
    "> 输入：nums = [0,0,0]\n",
    "> \n",
    "> 输出：[[0,0,0]]\n",
    "> \n",
    "> 解释：唯一可能的三元组和为 0 。"
   ]
  },
  {
   "cell_type": "markdown",
   "id": "046a1d65-0274-474b-af1a-3f8100832697",
   "metadata": {},
   "source": [
    "### 测试数据"
   ]
  },
  {
   "cell_type": "code",
   "execution_count": 1,
   "id": "764a8cb4-da3d-441b-9b26-bf1108ed5069",
   "metadata": {},
   "outputs": [],
   "source": [
    "nums = [-1,0,1,2,-1,-4]"
   ]
  },
  {
   "cell_type": "markdown",
   "id": "848cb1d2-3d93-49c5-81f3-c37b1f628cfe",
   "metadata": {},
   "source": [
    "### 代码"
   ]
  },
  {
   "cell_type": "code",
   "execution_count": 3,
   "id": "1364b947-c735-42ee-ba6d-08167449d5af",
   "metadata": {},
   "outputs": [],
   "source": [
    "class Solution:\n",
    "    def threeSum(self, nums: [int]) -> [[int]]:\n",
    "        nums.sort()\n",
    "        res, k = [], 0\n",
    "        for k in range(len(nums) - 2):\n",
    "            if nums[k] > 0: break # 1. because of j > i > k.\n",
    "            if k > 0 and nums[k] == nums[k - 1]: continue # 2. skip the same `nums[k]`.\n",
    "            i, j = k + 1, len(nums) - 1\n",
    "            while i < j: # 3. double pointer\n",
    "                s = nums[k] + nums[i] + nums[j]\n",
    "                if s < 0:\n",
    "                    i += 1\n",
    "                    while i < j and nums[i] == nums[i - 1]: i += 1\n",
    "                elif s > 0:\n",
    "                    j -= 1\n",
    "                    while i < j and nums[j] == nums[j + 1]: j -= 1\n",
    "                else:\n",
    "                    res.append([nums[k], nums[i], nums[j]])\n",
    "                    i += 1\n",
    "                    j -= 1\n",
    "                    while i < j and nums[i] == nums[i - 1]: i += 1\n",
    "                    while i < j and nums[j] == nums[j + 1]: j -= 1\n",
    "        return res"
   ]
  },
  {
   "cell_type": "code",
   "execution_count": 4,
   "id": "967e65d5-8a4f-4b00-80e7-e2f127ce493e",
   "metadata": {},
   "outputs": [
    {
     "name": "stdout",
     "output_type": "stream",
     "text": [
      "[[-1, -1, 2], [-1, 0, 1]]\n"
     ]
    }
   ],
   "source": [
    "solution = Solution()\n",
    "print(solution.threeSum(nums))"
   ]
  },
  {
   "cell_type": "code",
   "execution_count": null,
   "id": "6d8b0294-ead6-43c0-b662-124dc0ffead2",
   "metadata": {},
   "outputs": [],
   "source": []
  }
 ],
 "metadata": {
  "kernelspec": {
   "display_name": "Python 3 (ipykernel)",
   "language": "python",
   "name": "python3"
  },
  "language_info": {
   "codemirror_mode": {
    "name": "ipython",
    "version": 3
   },
   "file_extension": ".py",
   "mimetype": "text/x-python",
   "name": "python",
   "nbconvert_exporter": "python",
   "pygments_lexer": "ipython3",
   "version": "3.11.5"
  }
 },
 "nbformat": 4,
 "nbformat_minor": 5
}
