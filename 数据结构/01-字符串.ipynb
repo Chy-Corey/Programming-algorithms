{
 "cells": [
  {
   "cell_type": "markdown",
   "id": "6696c37c",
   "metadata": {
    "jp-MarkdownHeadingCollapsed": true
   },
   "source": [
    "## 1. 无重复字符串的最长子串"
   ]
  },
  {
   "cell_type": "markdown",
   "id": "480f2083",
   "metadata": {},
   "source": [
    "`中等`\n",
    "\n",
    "给定一个字符串 s ，请你找出其中不含有重复字符的最长子串的长度。\n",
    "\n",
    " \n",
    "\n",
    "示例 1:\n",
    "\n",
    "> 输入: s = \"abcabcbb\"\n",
    "> \n",
    "> 输出: 3 \n",
    "> \n",
    "> 解释: 因为无重复字符的最长子串是 \"abc\"，所以其长度为 3。\n",
    "\n",
    "示例 2:\n",
    "\n",
    "> 输入: s = \"bbbbb\"\n",
    ">\n",
    "> 输出: 1\n",
    ">\n",
    "> 解释: 因为无重复字符的最长子串是 \"b\"，所以其长度为 1。\n",
    "\n",
    "示例 3:\n",
    "\n",
    "> 输入: s = \"pwwkew\"\n",
    ">\n",
    "> 输出: 3\n",
    ">\n",
    "> 解释: 因为无重复字符的最长子串是 \"wke\"，所以其长度为 3。请注意，你的答案必须是 子串 的长度，\"pwke\" 是一个子序列，不是子串。"
   ]
  },
  {
   "cell_type": "markdown",
   "id": "1836861a",
   "metadata": {},
   "source": [
    "### 测试数据"
   ]
  },
  {
   "cell_type": "code",
   "execution_count": 1,
   "id": "78a82f1b",
   "metadata": {},
   "outputs": [],
   "source": [
    "s1 = \"abcabcbb\"  # 3\n",
    "s2 = \"pwwkew\"    # 3\n",
    "s3 = \"bbbbb\"     # 1"
   ]
  },
  {
   "cell_type": "markdown",
   "id": "e5d2ec2b",
   "metadata": {},
   "source": [
    "### 代码"
   ]
  },
  {
   "cell_type": "markdown",
   "id": "b7a66a89",
   "metadata": {},
   "source": [
    "初始想法是用双指针，一个在前面滑，如果有重复字符，就让后面的往前滑。看了题解发现这种方法叫做滑动窗口："
   ]
  },
  {
   "cell_type": "code",
   "execution_count": 4,
   "id": "baedc4d1",
   "metadata": {},
   "outputs": [],
   "source": [
    "from collections import defaultdict\n",
    "\n",
    "class Solution1:\n",
    "    def lengthOfLongestSubstring(self, s: str) -> int:\n",
    "        # 建立哈希表\n",
    "        hashDict = defaultdict(int)\n",
    "        # 统计最大长度\n",
    "        maxLength = 0\n",
    "        # 右侧指针位置初始化\n",
    "        right = 0\n",
    "        \n",
    "        for i in range(len(s)):\n",
    "            curLength = right - i\n",
    "            for j in range(right, len(s)):\n",
    "                hashDict[s[j]] += 1\n",
    "                curLength += 1\n",
    "                \n",
    "                # 如果哈希表里已经有了这个字符，就要把右侧指针移回来\n",
    "                # 然后进入下一次循环（左指针右移一格）\n",
    "                if hashDict[s[j]] == 2:\n",
    "                    curLength -= 1\n",
    "                    maxLength = max(maxLength, curLength)\n",
    "                    hashDict[s[i]] -= 1\n",
    "                    hashDict[s[j]] -= 1\n",
    "                    right = j\n",
    "\n",
    "                    break\n",
    "                maxLength = max(maxLength, curLength)\n",
    "\n",
    "        \n",
    "        return maxLength"
   ]
  },
  {
   "cell_type": "code",
   "execution_count": 5,
   "id": "92f701dc",
   "metadata": {},
   "outputs": [
    {
     "name": "stdout",
     "output_type": "stream",
     "text": [
      "3 3 1\n"
     ]
    }
   ],
   "source": [
    "solution1 = Solution1()\n",
    "print(solution1.lengthOfLongestSubstring(s1), solution1.lengthOfLongestSubstring(s2), solution1.lengthOfLongestSubstring(s3))"
   ]
  },
  {
   "cell_type": "markdown",
   "id": "24359b8a",
   "metadata": {},
   "source": [
    "提交以后，发现速度非常慢。回顾代码后发现：**如果哈希表里已经有了这个字符，就要把右侧指针移回来，然后进入下一次循环（左指针右移一格）** 这个思路是非常耗时的。倒不如直接保留右侧指针的位置，移动左侧指针，这样就不用一直移动右侧指针来回跑。\n",
    "\n",
    "总结一下就是双指针最好不要有指针回头的动作，非常耗时。"
   ]
  },
  {
   "cell_type": "markdown",
   "id": "f06f343c",
   "metadata": {},
   "source": [
    "改进后的代码："
   ]
  },
  {
   "cell_type": "code",
   "execution_count": 8,
   "id": "bd2f5f5a",
   "metadata": {},
   "outputs": [],
   "source": [
    "class Solution2:\n",
    "    def lengthOfLongestSubstring(self, s: str) -> int:\n",
    "        # 哈希集合，记录每个字符是否出现过\n",
    "        occ = set()\n",
    "        n = len(s)\n",
    "        # 右指针，初始值为 -1，相当于我们在字符串的左边界的左侧，还没有开始移动\n",
    "        rk, ans = -1, 0\n",
    "        for i in range(n):\n",
    "            if i != 0:\n",
    "                # 左指针向右移动一格，移除一个字符\n",
    "                occ.remove(s[i - 1])\n",
    "            while rk + 1 < n and s[rk + 1] not in occ:\n",
    "                # 不断地移动右指针\n",
    "                occ.add(s[rk + 1])\n",
    "                rk += 1\n",
    "            # 第 i 到 rk 个字符是一个极长的无重复字符子串\n",
    "            ans = max(ans, rk - i + 1)\n",
    "        return ans"
   ]
  },
  {
   "cell_type": "code",
   "execution_count": 9,
   "id": "c6a9f95a",
   "metadata": {},
   "outputs": [
    {
     "name": "stdout",
     "output_type": "stream",
     "text": [
      "3 3 1\n"
     ]
    }
   ],
   "source": [
    "solution2 = Solution2()\n",
    "print(solution2.lengthOfLongestSubstring(s1), solution2.lengthOfLongestSubstring(s2), solution2.lengthOfLongestSubstring(s3))"
   ]
  },
  {
   "cell_type": "markdown",
   "id": "74d0035f-d44e-4498-bdf0-b220fcbf7b64",
   "metadata": {},
   "source": [
    "## 2. 最长回文字符串"
   ]
  },
  {
   "cell_type": "markdown",
   "id": "951cfc4b-94d4-45cd-adc3-8b7756e6e83e",
   "metadata": {},
   "source": [
    "`中等`\n",
    "\n",
    "给你一个字符串 s，找到 s 中最长的 \n",
    "回文子串。\n",
    "\n",
    "示例 1：\n",
    "\n",
    "> 输入：s = \"babad\"\n",
    "> \n",
    "> 输出：\"bab\"\n",
    "> \n",
    "> 解释：\"aba\" 同样是符合题意的答案。\n",
    "\n",
    "示例 2：\n",
    "\n",
    "> 输入：s = \"cbbd\"\n",
    "> \n",
    "> 输出：\"bb\""
   ]
  },
  {
   "cell_type": "markdown",
   "id": "11d80b7e-c45c-4ec4-a03c-271b481e5118",
   "metadata": {},
   "source": [
    "### 测试数据"
   ]
  },
  {
   "cell_type": "code",
   "execution_count": 3,
   "id": "6cdf3311-d10d-4e9e-8080-ced501d3b0b4",
   "metadata": {},
   "outputs": [],
   "source": [
    "s = \"babad\""
   ]
  },
  {
   "cell_type": "markdown",
   "id": "e9bd09ba-0f6c-410e-8148-7652262821d9",
   "metadata": {
    "jp-MarkdownHeadingCollapsed": true
   },
   "source": [
    "### 代码"
   ]
  },
  {
   "cell_type": "markdown",
   "id": "c2511958-5942-4b51-acdc-a3a78c0db9e9",
   "metadata": {},
   "source": [
    "#### 方法 1 \n",
    "先判断长度为 2 的字串是不是回文，再增加到长度为 3 进行判断，直到长度为 n 。\n",
    "\n",
    "官解称之为动态规划。"
   ]
  },
  {
   "cell_type": "code",
   "execution_count": 8,
   "id": "f1f1e04b",
   "metadata": {},
   "outputs": [],
   "source": [
    "class Solution1:\n",
    "    def longestPalindrome(self, s: str) -> str:\n",
    "        n = len(s)\n",
    "        if n < 2:\n",
    "            return s\n",
    "        \n",
    "        max_len = 1\n",
    "        begin = 0\n",
    "        # dp[i][j] 表示 s[i..j] 是否是回文串\n",
    "        dp = [[False] * n for _ in range(n)]\n",
    "        for i in range(n):\n",
    "            dp[i][i] = True\n",
    "        \n",
    "        # 递推开始\n",
    "        # 先枚举子串长度\n",
    "        for L in range(2, n + 1):\n",
    "            # 枚举左边界，左边界的上限设置可以宽松一些\n",
    "            for i in range(n):\n",
    "                # 由 L 和 i 可以确定右边界，即 j - i + 1 = L 得\n",
    "                j = L + i - 1\n",
    "                # 如果右边界越界，就可以退出当前循环\n",
    "                if j >= n:\n",
    "                    break\n",
    "                    \n",
    "                if s[i] != s[j]:\n",
    "                    dp[i][j] = False \n",
    "                else:\n",
    "                    if j - i < 3:\n",
    "                        dp[i][j] = True\n",
    "                    else:\n",
    "                        dp[i][j] = dp[i + 1][j - 1]\n",
    "                \n",
    "                # 只要 dp[i][L] == true 成立，就表示子串 s[i..L] 是回文，此时记录回文长度和起始位置\n",
    "                if dp[i][j] and j - i + 1 > max_len:\n",
    "                    max_len = j - i + 1\n",
    "                    begin = i\n",
    "        return s[begin:begin + max_len]"
   ]
  },
  {
   "cell_type": "code",
   "execution_count": 9,
   "id": "34ed7c3c",
   "metadata": {},
   "outputs": [
    {
     "name": "stdout",
     "output_type": "stream",
     "text": [
      "bab\n"
     ]
    }
   ],
   "source": [
    "solution1 = Solution1()\n",
    "print(solution1.longestPalindrome(s))"
   ]
  },
  {
   "cell_type": "markdown",
   "id": "e8738591-3fdc-4cfa-be4b-b238a2ab8680",
   "metadata": {},
   "source": [
    "## 3. Z 字形变换"
   ]
  },
  {
   "cell_type": "markdown",
   "id": "5a9ad225-2154-4075-a7a5-2acbeb2fa31b",
   "metadata": {},
   "source": [
    "将一个给定字符串 s 根据给定的行数 numRows ，以从上往下、从左到右进行 Z 字形排列。\n",
    "\n",
    "比如输入字符串为 \"PAYPALISHIRING\" 行数为 3 时，排列如下：\n",
    "\n",
    "P   $\\quad$ A $\\quad$  H  $\\quad$ N\n",
    "\n",
    "A$\\ $ P$\\ $ L$\\ $ S $\\ $ I $\\ $ I $\\ $ G\n",
    "\n",
    "Y  $\\quad$  I  $\\quad$  R\n",
    "\n",
    "之后，你的输出需要从左往右逐行读取，产生出一个新的字符串，比如：\"PAHNAPLSIIGYIR\"。\n",
    "\n",
    "请你实现这个将字符串进行指定行数变换的函数：\n",
    "\n",
    "string convert(string s, int numRows);\n",
    " \n",
    "\n",
    "示例 1：\n",
    "\n",
    "> 输入：s = \"PAYPALISHIRING\", numRows = 3\n",
    "> \n",
    "> 输出：\"PAHNAPLSIIGYIR\"\n",
    "\n",
    "示例 2：\n",
    "\n",
    "> 输入：s = \"PAYPALISHIRING\", numRows = 4\n",
    "> \n",
    "> 输出：\"PINALSIGYAHRPI\"\n",
    "\n",
    "\n",
    "示例 3：\n",
    "\n",
    "> 输入：s = \"A\", numRows = 1\n",
    "> \n",
    "> 输出：\"A\""
   ]
  },
  {
   "cell_type": "markdown",
   "id": "374d3565-d76b-48ea-a9e5-f1c79bab75a8",
   "metadata": {},
   "source": [
    "### 测试数据"
   ]
  },
  {
   "cell_type": "code",
   "execution_count": 1,
   "id": "02303dc8-db98-4cfa-9cda-ca54f270b61f",
   "metadata": {},
   "outputs": [],
   "source": [
    "s = \"PAYPALISHIRING\"\n",
    "numRows = 3"
   ]
  },
  {
   "cell_type": "markdown",
   "id": "ddbd1bc8-56d5-45e5-b196-bfaba515523c",
   "metadata": {},
   "source": [
    "### 代码"
   ]
  },
  {
   "cell_type": "markdown",
   "id": "bd26f66f-c6f6-4ebd-b7d9-c6c23c8d1d82",
   "metadata": {},
   "source": [
    "立刻想到的是模拟，用二维矩阵来模拟对应的 Z 形字符串。"
   ]
  },
  {
   "cell_type": "code",
   "execution_count": 2,
   "id": "840f74e7-f339-4a28-82fc-076e77250250",
   "metadata": {},
   "outputs": [],
   "source": [
    "class Solution1:\n",
    "    def convert(self, s: str, numRows: int) -> str:\n",
    "        length = len(s)\n",
    "        if numRows == 1 or numRows >= length: return s\n",
    "        \n",
    "        loop_num = 2 * numRows - 2\n",
    "        arr = [[\"\"] * (length // (loop_num) * (numRows - 1) + length % (loop_num)) for _ in range\n",
    "        (numRows) ]\n",
    "        i, j, k = 0, 0, 0\n",
    "        \n",
    "        for ch in s:\n",
    "            arr[i][j] = ch       \n",
    "            if k % loop_num < numRows - 1:\n",
    "                i += 1\n",
    "            else:\n",
    "                i -= 1\n",
    "                j += 1\n",
    "            k += 1\n",
    "        return ''.join(ch for row in arr for ch in row if ch)  # 这里如果用sum(arr, []) 会非常耗时。"
   ]
  },
  {
   "cell_type": "code",
   "execution_count": 3,
   "id": "87a8199d-89ca-4238-93e4-3a960cfdd751",
   "metadata": {},
   "outputs": [
    {
     "name": "stdout",
     "output_type": "stream",
     "text": [
      "PAHNAPLSIIGYIR\n"
     ]
    }
   ],
   "source": [
    "solution1 = Solution1()\n",
    "print(solution1.convert(s, numRows))"
   ]
  },
  {
   "cell_type": "markdown",
   "id": "6bcb1644-c1b4-4790-98ae-3625a5d3671e",
   "metadata": {},
   "source": [
    "其实可以不创建对应的二维数组，因为有很多空间不需要。\n",
    "\n",
    "注意到每次往矩阵的某一行添加字符时，都会添加到该行上一个字符的右侧，且最后组成答案时只会用到每行的非空字符。因此我们可以将矩阵的每行初始化为一个空列表，每次向某一行添加字符时，添加到该行的列表末尾即可。"
   ]
  },
  {
   "cell_type": "code",
   "execution_count": 8,
   "id": "6c58d229-1763-4dce-8adc-c9f51a94598b",
   "metadata": {},
   "outputs": [],
   "source": [
    "class Solution2:\n",
    "    def convert(self, s: str, numRows: int) -> str:\n",
    "        r = numRows\n",
    "        if r == 1 or r >= len(s):\n",
    "            return s\n",
    "        mat = [[] for _ in range(r)]\n",
    "        t, x = r * 2 - 2, 0\n",
    "        for i, ch in enumerate(s):\n",
    "            mat[x].append(ch)\n",
    "            x += 1 if i % t < r - 1 else -1\n",
    "        return ''.join(ch for row in mat for ch in row if ch)"
   ]
  },
  {
   "cell_type": "code",
   "execution_count": 9,
   "id": "d556ac89-63ff-4137-8368-3b18aa14fe19",
   "metadata": {},
   "outputs": [
    {
     "name": "stdout",
     "output_type": "stream",
     "text": [
      "PAHNAPLSIIGYIR\n"
     ]
    }
   ],
   "source": [
    "solution2 = Solution2()\n",
    "print(solution2.convert(s, numRows))"
   ]
  },
  {
   "cell_type": "markdown",
   "id": "34c937fa-de45-47f7-8a23-fb029c5a25f3",
   "metadata": {},
   "source": [
    "能不能不初始化（不模拟）？其实就是找规律，但是感觉没必要，面向题目设计算法不具有泛用性，官解："
   ]
  },
  {
   "cell_type": "code",
   "execution_count": 12,
   "id": "ae412a5d-789b-4935-825e-079b7b2b17b1",
   "metadata": {},
   "outputs": [],
   "source": [
    "# 作者：力扣官方题解\n",
    "# 链接：https://leetcode.cn/problems/zigzag-conversion/solutions/1298127/z-zi-xing-bian-huan-by-leetcode-solution-4n3u/\n",
    "\n",
    "class Solution3:\n",
    "    def convert(self, s: str, numRows: int) -> str:\n",
    "        n, r = len(s), numRows\n",
    "        if r == 1 or r >= n:\n",
    "            return s\n",
    "        t = r * 2 - 2\n",
    "        ans = []\n",
    "        for i in range(r):  # 枚举矩阵的行\n",
    "            for j in range(0, n - i, t):  # 枚举每个周期的起始下标\n",
    "                ans.append(s[j + i])  # 当前周期的第一个字符\n",
    "                if 0 < i < r - 1 and j + t - i < n:\n",
    "                    ans.append(s[j + t - i])  # 当前周期的第二个字符\n",
    "        return ''.join(ans)"
   ]
  },
  {
   "cell_type": "code",
   "execution_count": 13,
   "id": "6a8180a7-76b9-4f65-8499-c7de3ace00e5",
   "metadata": {},
   "outputs": [
    {
     "name": "stdout",
     "output_type": "stream",
     "text": [
      "PAHNAPLSIIGYIR\n"
     ]
    }
   ],
   "source": [
    "solution3 = Solution3()\n",
    "print(solution3.convert(s, numRows))"
   ]
  },
  {
   "cell_type": "code",
   "execution_count": null,
   "id": "50a82e9d-4bec-4904-87d1-287b171be56c",
   "metadata": {},
   "outputs": [],
   "source": []
  }
 ],
 "metadata": {
  "kernelspec": {
   "display_name": "Python 3 (ipykernel)",
   "language": "python",
   "name": "python3"
  },
  "language_info": {
   "codemirror_mode": {
    "name": "ipython",
    "version": 3
   },
   "file_extension": ".py",
   "mimetype": "text/x-python",
   "name": "python",
   "nbconvert_exporter": "python",
   "pygments_lexer": "ipython3",
   "version": "3.11.5"
  }
 },
 "nbformat": 4,
 "nbformat_minor": 5
}
