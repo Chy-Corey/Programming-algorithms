{
 "cells": [
  {
   "cell_type": "markdown",
   "id": "6696c37c",
   "metadata": {
    "jp-MarkdownHeadingCollapsed": true
   },
   "source": [
    "## 1. 无重复字符串的最长子串"
   ]
  },
  {
   "cell_type": "markdown",
   "id": "480f2083",
   "metadata": {},
   "source": [
    "`中等`\n",
    "\n",
    "给定一个字符串 s ，请你找出其中不含有重复字符的最长子串的长度。\n",
    "\n",
    " \n",
    "\n",
    "示例 1:\n",
    "\n",
    "> 输入: s = \"abcabcbb\"\n",
    "> \n",
    "> 输出: 3 \n",
    "> \n",
    "> 解释: 因为无重复字符的最长子串是 \"abc\"，所以其长度为 3。\n",
    "\n",
    "示例 2:\n",
    "\n",
    "> 输入: s = \"bbbbb\"\n",
    ">\n",
    "> 输出: 1\n",
    ">\n",
    "> 解释: 因为无重复字符的最长子串是 \"b\"，所以其长度为 1。\n",
    "\n",
    "示例 3:\n",
    "\n",
    "> 输入: s = \"pwwkew\"\n",
    ">\n",
    "> 输出: 3\n",
    ">\n",
    "> 解释: 因为无重复字符的最长子串是 \"wke\"，所以其长度为 3。请注意，你的答案必须是 子串 的长度，\"pwke\" 是一个子序列，不是子串。"
   ]
  },
  {
   "cell_type": "markdown",
   "id": "1836861a",
   "metadata": {},
   "source": [
    "### 测试数据"
   ]
  },
  {
   "cell_type": "code",
   "execution_count": 1,
   "id": "78a82f1b",
   "metadata": {},
   "outputs": [],
   "source": [
    "s1 = \"abcabcbb\"  # 3\n",
    "s2 = \"pwwkew\"    # 3\n",
    "s3 = \"bbbbb\"     # 1"
   ]
  },
  {
   "cell_type": "markdown",
   "id": "e5d2ec2b",
   "metadata": {},
   "source": [
    "### 代码"
   ]
  },
  {
   "cell_type": "markdown",
   "id": "b7a66a89",
   "metadata": {},
   "source": [
    "初始想法是用双指针，一个在前面滑，如果有重复字符，就让后面的往前滑。看了题解发现这种方法叫做滑动窗口："
   ]
  },
  {
   "cell_type": "code",
   "execution_count": 4,
   "id": "baedc4d1",
   "metadata": {},
   "outputs": [],
   "source": [
    "from collections import defaultdict\n",
    "\n",
    "class Solution1:\n",
    "    def lengthOfLongestSubstring(self, s: str) -> int:\n",
    "        # 建立哈希表\n",
    "        hashDict = defaultdict(int)\n",
    "        # 统计最大长度\n",
    "        maxLength = 0\n",
    "        # 右侧指针位置初始化\n",
    "        right = 0\n",
    "        \n",
    "        for i in range(len(s)):\n",
    "            curLength = right - i\n",
    "            for j in range(right, len(s)):\n",
    "                hashDict[s[j]] += 1\n",
    "                curLength += 1\n",
    "                \n",
    "                # 如果哈希表里已经有了这个字符，就要把右侧指针移回来\n",
    "                # 然后进入下一次循环（左指针右移一格）\n",
    "                if hashDict[s[j]] == 2:\n",
    "                    curLength -= 1\n",
    "                    maxLength = max(maxLength, curLength)\n",
    "                    hashDict[s[i]] -= 1\n",
    "                    hashDict[s[j]] -= 1\n",
    "                    right = j\n",
    "\n",
    "                    break\n",
    "                maxLength = max(maxLength, curLength)\n",
    "\n",
    "        \n",
    "        return maxLength"
   ]
  },
  {
   "cell_type": "code",
   "execution_count": 5,
   "id": "92f701dc",
   "metadata": {},
   "outputs": [
    {
     "name": "stdout",
     "output_type": "stream",
     "text": [
      "3 3 1\n"
     ]
    }
   ],
   "source": [
    "solution1 = Solution1()\n",
    "print(solution1.lengthOfLongestSubstring(s1), solution1.lengthOfLongestSubstring(s2), solution1.lengthOfLongestSubstring(s3))"
   ]
  },
  {
   "cell_type": "markdown",
   "id": "24359b8a",
   "metadata": {},
   "source": [
    "提交以后，发现速度非常慢。回顾代码后发现：**如果哈希表里已经有了这个字符，就要把右侧指针移回来，然后进入下一次循环（左指针右移一格）** 这个思路是非常耗时的。倒不如直接保留右侧指针的位置，移动左侧指针，这样就不用一直移动右侧指针来回跑。\n",
    "\n",
    "总结一下就是双指针最好不要有指针回头的动作，非常耗时。"
   ]
  },
  {
   "cell_type": "markdown",
   "id": "f06f343c",
   "metadata": {},
   "source": [
    "改进后的代码："
   ]
  },
  {
   "cell_type": "code",
   "execution_count": 8,
   "id": "bd2f5f5a",
   "metadata": {},
   "outputs": [],
   "source": [
    "class Solution2:\n",
    "    def lengthOfLongestSubstring(self, s: str) -> int:\n",
    "        # 哈希集合，记录每个字符是否出现过\n",
    "        occ = set()\n",
    "        n = len(s)\n",
    "        # 右指针，初始值为 -1，相当于我们在字符串的左边界的左侧，还没有开始移动\n",
    "        rk, ans = -1, 0\n",
    "        for i in range(n):\n",
    "            if i != 0:\n",
    "                # 左指针向右移动一格，移除一个字符\n",
    "                occ.remove(s[i - 1])\n",
    "            while rk + 1 < n and s[rk + 1] not in occ:\n",
    "                # 不断地移动右指针\n",
    "                occ.add(s[rk + 1])\n",
    "                rk += 1\n",
    "            # 第 i 到 rk 个字符是一个极长的无重复字符子串\n",
    "            ans = max(ans, rk - i + 1)\n",
    "        return ans"
   ]
  },
  {
   "cell_type": "code",
   "execution_count": 9,
   "id": "c6a9f95a",
   "metadata": {},
   "outputs": [
    {
     "name": "stdout",
     "output_type": "stream",
     "text": [
      "3 3 1\n"
     ]
    }
   ],
   "source": [
    "solution2 = Solution2()\n",
    "print(solution2.lengthOfLongestSubstring(s1), solution2.lengthOfLongestSubstring(s2), solution2.lengthOfLongestSubstring(s3))"
   ]
  },
  {
   "cell_type": "markdown",
   "id": "74d0035f-d44e-4498-bdf0-b220fcbf7b64",
   "metadata": {
    "jp-MarkdownHeadingCollapsed": true
   },
   "source": [
    "## 2. 最长回文字符串"
   ]
  },
  {
   "cell_type": "markdown",
   "id": "951cfc4b-94d4-45cd-adc3-8b7756e6e83e",
   "metadata": {},
   "source": [
    "`中等`\n",
    "\n",
    "给你一个字符串 s，找到 s 中最长的 \n",
    "回文子串。\n",
    "\n",
    "示例 1：\n",
    "\n",
    "> 输入：s = \"babad\"\n",
    "> \n",
    "> 输出：\"bab\"\n",
    "> \n",
    "> 解释：\"aba\" 同样是符合题意的答案。\n",
    "\n",
    "示例 2：\n",
    "\n",
    "> 输入：s = \"cbbd\"\n",
    "> \n",
    "> 输出：\"bb\""
   ]
  },
  {
   "cell_type": "markdown",
   "id": "11d80b7e-c45c-4ec4-a03c-271b481e5118",
   "metadata": {},
   "source": [
    "### 测试数据"
   ]
  },
  {
   "cell_type": "code",
   "execution_count": 3,
   "id": "6cdf3311-d10d-4e9e-8080-ced501d3b0b4",
   "metadata": {},
   "outputs": [],
   "source": [
    "s = \"babad\""
   ]
  },
  {
   "cell_type": "markdown",
   "id": "e9bd09ba-0f6c-410e-8148-7652262821d9",
   "metadata": {
    "jp-MarkdownHeadingCollapsed": true
   },
   "source": [
    "### 代码"
   ]
  },
  {
   "cell_type": "markdown",
   "id": "c2511958-5942-4b51-acdc-a3a78c0db9e9",
   "metadata": {},
   "source": [
    "#### 方法 1 \n",
    "先判断长度为 2 的字串是不是回文，再增加到长度为 3 进行判断，直到长度为 n 。\n",
    "\n",
    "官解称之为动态规划。"
   ]
  },
  {
   "cell_type": "code",
   "execution_count": 8,
   "id": "f1f1e04b",
   "metadata": {},
   "outputs": [],
   "source": [
    "class Solution1:\n",
    "    def longestPalindrome(self, s: str) -> str:\n",
    "        n = len(s)\n",
    "        if n < 2:\n",
    "            return s\n",
    "        \n",
    "        max_len = 1\n",
    "        begin = 0\n",
    "        # dp[i][j] 表示 s[i..j] 是否是回文串\n",
    "        dp = [[False] * n for _ in range(n)]\n",
    "        for i in range(n):\n",
    "            dp[i][i] = True\n",
    "        \n",
    "        # 递推开始\n",
    "        # 先枚举子串长度\n",
    "        for L in range(2, n + 1):\n",
    "            # 枚举左边界，左边界的上限设置可以宽松一些\n",
    "            for i in range(n):\n",
    "                # 由 L 和 i 可以确定右边界，即 j - i + 1 = L 得\n",
    "                j = L + i - 1\n",
    "                # 如果右边界越界，就可以退出当前循环\n",
    "                if j >= n:\n",
    "                    break\n",
    "                    \n",
    "                if s[i] != s[j]:\n",
    "                    dp[i][j] = False \n",
    "                else:\n",
    "                    if j - i < 3:\n",
    "                        dp[i][j] = True\n",
    "                    else:\n",
    "                        dp[i][j] = dp[i + 1][j - 1]\n",
    "                \n",
    "                # 只要 dp[i][L] == true 成立，就表示子串 s[i..L] 是回文，此时记录回文长度和起始位置\n",
    "                if dp[i][j] and j - i + 1 > max_len:\n",
    "                    max_len = j - i + 1\n",
    "                    begin = i\n",
    "        return s[begin:begin + max_len]"
   ]
  },
  {
   "cell_type": "code",
   "execution_count": 9,
   "id": "34ed7c3c",
   "metadata": {},
   "outputs": [
    {
     "name": "stdout",
     "output_type": "stream",
     "text": [
      "bab\n"
     ]
    }
   ],
   "source": [
    "solution1 = Solution1()\n",
    "print(solution1.longestPalindrome(s))"
   ]
  },
  {
   "cell_type": "markdown",
   "id": "e8738591-3fdc-4cfa-be4b-b238a2ab8680",
   "metadata": {},
   "source": [
    "## 3. Z 字形变换"
   ]
  },
  {
   "cell_type": "markdown",
   "id": "5a9ad225-2154-4075-a7a5-2acbeb2fa31b",
   "metadata": {},
   "source": [
    "将一个给定字符串 s 根据给定的行数 numRows ，以从上往下、从左到右进行 Z 字形排列。\n",
    "\n",
    "比如输入字符串为 \"PAYPALISHIRING\" 行数为 3 时，排列如下：\n",
    "\n",
    "P   $\\quad$ A $\\quad$  H  $\\quad$ N\n",
    "\n",
    "A$\\ $ P$\\ $ L$\\ $ S $\\ $ I $\\ $ I $\\ $ G\n",
    "\n",
    "Y  $\\quad$  I  $\\quad$  R\n",
    "\n",
    "之后，你的输出需要从左往右逐行读取，产生出一个新的字符串，比如：\"PAHNAPLSIIGYIR\"。\n",
    "\n",
    "请你实现这个将字符串进行指定行数变换的函数：\n",
    "\n",
    "string convert(string s, int numRows);\n",
    " \n",
    "\n",
    "示例 1：\n",
    "\n",
    "> 输入：s = \"PAYPALISHIRING\", numRows = 3\n",
    "> \n",
    "> 输出：\"PAHNAPLSIIGYIR\"\n",
    "\n",
    "示例 2：\n",
    "\n",
    "> 输入：s = \"PAYPALISHIRING\", numRows = 4\n",
    "> \n",
    "> 输出：\"PINALSIGYAHRPI\"\n",
    "\n",
    "\n",
    "示例 3：\n",
    "\n",
    "> 输入：s = \"A\", numRows = 1\n",
    "> \n",
    "> 输出：\"A\""
   ]
  },
  {
   "cell_type": "markdown",
   "id": "374d3565-d76b-48ea-a9e5-f1c79bab75a8",
   "metadata": {},
   "source": [
    "### 测试数据"
   ]
  },
  {
   "cell_type": "code",
   "execution_count": 1,
   "id": "02303dc8-db98-4cfa-9cda-ca54f270b61f",
   "metadata": {},
   "outputs": [],
   "source": [
    "s = \"PAYPALISHIRING\"\n",
    "numRows = 3"
   ]
  },
  {
   "cell_type": "markdown",
   "id": "ddbd1bc8-56d5-45e5-b196-bfaba515523c",
   "metadata": {},
   "source": [
    "### 代码"
   ]
  },
  {
   "cell_type": "markdown",
   "id": "bd26f66f-c6f6-4ebd-b7d9-c6c23c8d1d82",
   "metadata": {},
   "source": [
    "立刻想到的是模拟，用二维矩阵来模拟对应的 Z 形字符串。"
   ]
  },
  {
   "cell_type": "code",
   "execution_count": 2,
   "id": "840f74e7-f339-4a28-82fc-076e77250250",
   "metadata": {},
   "outputs": [],
   "source": [
    "class Solution1:\n",
    "    def convert(self, s: str, numRows: int) -> str:\n",
    "        length = len(s)\n",
    "        if numRows == 1 or numRows >= length: return s\n",
    "        \n",
    "        loop_num = 2 * numRows - 2\n",
    "        arr = [[\"\"] * (length // (loop_num) * (numRows - 1) + length % (loop_num)) for _ in range\n",
    "        (numRows) ]\n",
    "        i, j, k = 0, 0, 0\n",
    "        \n",
    "        for ch in s:\n",
    "            arr[i][j] = ch       \n",
    "            if k % loop_num < numRows - 1:\n",
    "                i += 1\n",
    "            else:\n",
    "                i -= 1\n",
    "                j += 1\n",
    "            k += 1\n",
    "        return ''.join(ch for row in arr for ch in row if ch)  # 这里如果用sum(arr, []) 会非常耗时。"
   ]
  },
  {
   "cell_type": "code",
   "execution_count": 3,
   "id": "87a8199d-89ca-4238-93e4-3a960cfdd751",
   "metadata": {},
   "outputs": [
    {
     "name": "stdout",
     "output_type": "stream",
     "text": [
      "PAHNAPLSIIGYIR\n"
     ]
    }
   ],
   "source": [
    "solution1 = Solution1()\n",
    "print(solution1.convert(s, numRows))"
   ]
  },
  {
   "cell_type": "markdown",
   "id": "6bcb1644-c1b4-4790-98ae-3625a5d3671e",
   "metadata": {},
   "source": [
    "其实可以不创建对应的二维数组，因为有很多空间不需要。\n",
    "\n",
    "注意到每次往矩阵的某一行添加字符时，都会添加到该行上一个字符的右侧，且最后组成答案时只会用到每行的非空字符。因此我们可以将矩阵的每行初始化为一个空列表，每次向某一行添加字符时，添加到该行的列表末尾即可。"
   ]
  },
  {
   "cell_type": "code",
   "execution_count": 8,
   "id": "6c58d229-1763-4dce-8adc-c9f51a94598b",
   "metadata": {},
   "outputs": [],
   "source": [
    "class Solution2:\n",
    "    def convert(self, s: str, numRows: int) -> str:\n",
    "        r = numRows\n",
    "        if r == 1 or r >= len(s):\n",
    "            return s\n",
    "        mat = [[] for _ in range(r)]\n",
    "        t, x = r * 2 - 2, 0\n",
    "        for i, ch in enumerate(s):\n",
    "            mat[x].append(ch)\n",
    "            x += 1 if i % t < r - 1 else -1\n",
    "        return ''.join(ch for row in mat for ch in row if ch)"
   ]
  },
  {
   "cell_type": "code",
   "execution_count": 9,
   "id": "d556ac89-63ff-4137-8368-3b18aa14fe19",
   "metadata": {},
   "outputs": [
    {
     "name": "stdout",
     "output_type": "stream",
     "text": [
      "PAHNAPLSIIGYIR\n"
     ]
    }
   ],
   "source": [
    "solution2 = Solution2()\n",
    "print(solution2.convert(s, numRows))"
   ]
  },
  {
   "cell_type": "markdown",
   "id": "34c937fa-de45-47f7-8a23-fb029c5a25f3",
   "metadata": {},
   "source": [
    "能不能不初始化（不模拟）？其实就是找规律，但是感觉没必要，面向题目设计算法不具有泛用性，官解："
   ]
  },
  {
   "cell_type": "code",
   "execution_count": 12,
   "id": "ae412a5d-789b-4935-825e-079b7b2b17b1",
   "metadata": {},
   "outputs": [],
   "source": [
    "# 作者：力扣官方题解\n",
    "# 链接：https://leetcode.cn/problems/zigzag-conversion/solutions/1298127/z-zi-xing-bian-huan-by-leetcode-solution-4n3u/\n",
    "\n",
    "class Solution3:\n",
    "    def convert(self, s: str, numRows: int) -> str:\n",
    "        n, r = len(s), numRows\n",
    "        if r == 1 or r >= n:\n",
    "            return s\n",
    "        t = r * 2 - 2\n",
    "        ans = []\n",
    "        for i in range(r):  # 枚举矩阵的行\n",
    "            for j in range(0, n - i, t):  # 枚举每个周期的起始下标\n",
    "                ans.append(s[j + i])  # 当前周期的第一个字符\n",
    "                if 0 < i < r - 1 and j + t - i < n:\n",
    "                    ans.append(s[j + t - i])  # 当前周期的第二个字符\n",
    "        return ''.join(ans)"
   ]
  },
  {
   "cell_type": "code",
   "execution_count": 13,
   "id": "6a8180a7-76b9-4f65-8499-c7de3ace00e5",
   "metadata": {},
   "outputs": [
    {
     "name": "stdout",
     "output_type": "stream",
     "text": [
      "PAHNAPLSIIGYIR\n"
     ]
    }
   ],
   "source": [
    "solution3 = Solution3()\n",
    "print(solution3.convert(s, numRows))"
   ]
  },
  {
   "cell_type": "markdown",
   "id": "a2158943",
   "metadata": {
    "jp-MarkdownHeadingCollapsed": true
   },
   "source": [
    "## 4. 电话号码的字母组合"
   ]
  },
  {
   "attachments": {
    "image.png": {
     "image/png": "[encoded data removed]"
    }
   },
   "cell_type": "markdown",
   "id": "a68fd7a9",
   "metadata": {},
   "source": [
    "给定一个仅包含数字 2-9 的字符串，返回所有它能表示的字母组合。答案可以按 任意顺序 返回。\n",
    "\n",
    "给出数字到字母的映射如下（与电话按键相同）。注意 1 不对应任何字母。\n",
    "\n",
    "![image.png](attachment:image.png)\n",
    "\n",
    "示例 1：\n",
    "\n",
    "> 输入：digits = \"23\"\n",
    "> \n",
    "> 输出：[\"ad\",\"ae\",\"af\",\"bd\",\"be\",\"bf\",\"cd\",\"ce\",\"cf\"]\n",
    "\n",
    "示例 2：\n",
    "\n",
    "> 输入：digits = \"\"\n",
    "> \n",
    "> 输出：[]\n",
    "\n",
    "示例 3：\n",
    "\n",
    "> 输入：digits = \"2\"\n",
    "> \n",
    "> 输出：[\"a\",\"b\",\"c\"]"
   ]
  },
  {
   "cell_type": "markdown",
   "id": "04353e64",
   "metadata": {},
   "source": [
    "### 测试数据"
   ]
  },
  {
   "cell_type": "code",
   "execution_count": 9,
   "id": "b30989d2",
   "metadata": {},
   "outputs": [],
   "source": [
    "digits = \"23\""
   ]
  },
  {
   "cell_type": "markdown",
   "id": "8489437d",
   "metadata": {},
   "source": [
    "### 代码"
   ]
  },
  {
   "cell_type": "markdown",
   "id": "35628ee0",
   "metadata": {},
   "source": [
    "立刻想到的是使用树结构来操作："
   ]
  },
  {
   "cell_type": "code",
   "execution_count": 10,
   "id": "fff41065",
   "metadata": {},
   "outputs": [],
   "source": [
    "from typing import List\n",
    "class Solution1:\n",
    "    def letterCombinations(self, digits: str) -> List[str]:\n",
    "        if digits == \"\": return []\n",
    "        res = []\n",
    "        \n",
    "        phone = {'2':['a','b','c'],\n",
    "                 '3':['d','e','f'],\n",
    "                 '4':['g','h','i'],\n",
    "                 '5':['j','k','l'],\n",
    "                 '6':['m','n','o'],\n",
    "                 '7':['p','q','r','s'],\n",
    "                 '8':['t','u','v'],\n",
    "                 '9':['w','x','y','z']}\n",
    "\n",
    "        def dfs(left_digits, res_str):\n",
    "            if not left_digits: res.append(res_str)\n",
    "            else:\n",
    "                cur = left_digits[0]\n",
    "                for i in phone[cur]:\n",
    "                    dfs(left_digits[1: ], res_str + i)\n",
    "        \n",
    "        dfs(digits, \"\")\n",
    "        return res  "
   ]
  },
  {
   "cell_type": "code",
   "execution_count": 11,
   "id": "3d171b22",
   "metadata": {},
   "outputs": [
    {
     "name": "stdout",
     "output_type": "stream",
     "text": [
      "['ad', 'ae', 'af', 'bd', 'be', 'bf', 'cd', 'ce', 'cf']\n"
     ]
    }
   ],
   "source": [
    "solution1 = Solution1()\n",
    "print(solution1.letterCombinations(digits))"
   ]
  },
  {
   "cell_type": "markdown",
   "id": "f97dc87c",
   "metadata": {},
   "source": [
    "看了题解，这种方法叫做 **“回溯”** ，其实就是递归。这也是一个树的结构，与深度优先搜索不同的是，回溯是在寻找最优解（或者所有解），而 DFS 是在遍历，访问所有节点。而且回溯法不关心树的结构，不需要将结构保存下来，只要保存解即可。"
   ]
  },
  {
   "cell_type": "markdown",
   "id": "a6b1e751",
   "metadata": {},
   "source": [
    "不仅可以使用树结构，还可以使用队列："
   ]
  },
  {
   "cell_type": "code",
   "execution_count": 12,
   "id": "0efcf47e",
   "metadata": {},
   "outputs": [],
   "source": [
    "class Solution2:\n",
    "    def letterCombinations(self, digits: str) -> List[str]:\n",
    "        if not digits: return []\n",
    "        phone = ['abc','def','ghi','jkl','mno','pqrs','tuv','wxyz']\n",
    "        queue = ['']  # 初始化队列\n",
    "        for digit in digits:\n",
    "            for _ in range(len(queue)):\n",
    "                tmp = queue.pop(0)\n",
    "                for letter in phone[ord(digit)-50]:# 这里我们不使用 int() 转换字符串，使用ASCII码\n",
    "                    queue.append(tmp + letter)\n",
    "        return queue"
   ]
  },
  {
   "cell_type": "code",
   "execution_count": 13,
   "id": "0156979f",
   "metadata": {},
   "outputs": [
    {
     "name": "stdout",
     "output_type": "stream",
     "text": [
      "['ad', 'ae', 'af', 'bd', 'be', 'bf', 'cd', 'ce', 'cf']\n"
     ]
    }
   ],
   "source": [
    "solution2 = Solution2()\n",
    "print(solution2.letterCombinations(digits))"
   ]
  },
  {
   "cell_type": "markdown",
   "id": "2d8bf180",
   "metadata": {},
   "source": [
    "题解的直观解释：\n",
    "\n",
    "作者：腐烂的橘子\n",
    "\n",
    "链接：https://leetcode.cn/problems/letter-combinations-of-a-phone-number/solutions/\n",
    "\n",
    "https://leetcode.cn/problems/letter-combinations-of-a-phone-number/solutions/89041/hui-su-dui-lie-tu-jie-by-ml-zimingmeng"
   ]
  },
  {
   "cell_type": "markdown",
   "id": "93482189",
   "metadata": {
    "jp-MarkdownHeadingCollapsed": true
   },
   "source": [
    "## 5. 有效的括号"
   ]
  },
  {
   "cell_type": "markdown",
   "id": "02aa24f9",
   "metadata": {},
   "source": [
    "给定一个只包括 '('，')'，'{'，'}'，'['，']' 的字符串 s ，判断字符串是否有效。\n",
    "\n",
    "有效字符串需满足：\n",
    "\n",
    "- 左括号必须用相同类型的右括号闭合。\n",
    "\n",
    "- 左括号必须以正确的顺序闭合。\n",
    "\n",
    "- 每个右括号都有一个对应的相同类型的左括号。\n",
    " \n",
    "\n",
    "示例 1：\n",
    "\n",
    "> 输入：s = \"()\"\n",
    "> \n",
    "> 输出：true\n",
    "\n",
    "示例 2：\n",
    "\n",
    "> 输入：s = \"()[]{}\"\n",
    "> \n",
    "> 输出：true\n",
    "\n",
    "示例 3：\n",
    "\n",
    "> 输入：s = \"(]\"\n",
    "> \n",
    "> 输出：false"
   ]
  },
  {
   "cell_type": "markdown",
   "id": "5ae4c57d",
   "metadata": {},
   "source": [
    "这道题和下一道题“括号生成”本质上是同一题，注意分析本质。"
   ]
  },
  {
   "cell_type": "markdown",
   "id": "cc3ec4ea",
   "metadata": {},
   "source": [
    "### 测试数据"
   ]
  },
  {
   "cell_type": "code",
   "execution_count": 1,
   "id": "b8f7f59a",
   "metadata": {},
   "outputs": [],
   "source": [
    "s1 = \"[]{}()\"\n",
    "s2 = \"{}[(])\""
   ]
  },
  {
   "cell_type": "markdown",
   "id": "125784b2",
   "metadata": {},
   "source": [
    "### 代码"
   ]
  },
  {
   "cell_type": "markdown",
   "id": "831c2b46",
   "metadata": {},
   "source": [
    "括号以一个字符串呈现，字符串具有列表结构，就要考虑能不能用栈或者队列。很明显的先入后出，就是栈。"
   ]
  },
  {
   "cell_type": "code",
   "execution_count": 2,
   "id": "6b413b02",
   "metadata": {},
   "outputs": [],
   "source": [
    "class Solution:\n",
    "    def isValid(self, s: str) -> bool:\n",
    "        dic = {\n",
    "            \")\": \"(\",\n",
    "            \"]\": \"[\",\n",
    "            \"}\": \"{\"\n",
    "        }\n",
    "        stack = []\n",
    "        for i in s:\n",
    "            if stack and i in dic:\n",
    "                if stack[-1] == dic[i]:\n",
    "                    stack.pop(-1)\n",
    "                else: return False\n",
    "            else:\n",
    "                stack.append(i)\n",
    "            \n",
    "        return not stack"
   ]
  },
  {
   "cell_type": "code",
   "execution_count": 3,
   "id": "b45d8f20",
   "metadata": {},
   "outputs": [
    {
     "name": "stdout",
     "output_type": "stream",
     "text": [
      "True\n",
      "False\n"
     ]
    }
   ],
   "source": [
    "solution = Solution()\n",
    "print(solution.isValid(s1))\n",
    "print(solution.isValid(s2))"
   ]
  },
  {
   "cell_type": "markdown",
   "id": "ac4c05a1",
   "metadata": {},
   "source": [
    "在做这种题目时，首先要结合数据本身的结构去考虑，数据有什么特点，能用哪些数据结构来操作。"
   ]
  },
  {
   "cell_type": "markdown",
   "id": "489c2aaf",
   "metadata": {
    "jp-MarkdownHeadingCollapsed": true
   },
   "source": [
    "## 6. 括号生成"
   ]
  },
  {
   "cell_type": "markdown",
   "id": "6354e3f4",
   "metadata": {},
   "source": [
    "这一道题和上一道反过来，需要生成有效的括号，我们就可以自己决定数据的结构。"
   ]
  },
  {
   "cell_type": "markdown",
   "id": "f324eb1c",
   "metadata": {},
   "source": [
    "数字 n 代表生成括号的对数，请你设计一个函数，用于能够生成所有可能的并且 有效的 括号组合。\n",
    "\n",
    "示例 1：\n",
    "\n",
    "> 输入：n = 3\n",
    "> \n",
    "> 输出：[\"((()))\",\"(()())\",\"(())()\",\"()(())\",\"()()()\"]\n",
    "\n",
    "示例 2：\n",
    "\n",
    "> 输入：n = 1\n",
    "> \n",
    "> 输出：[\"()\"]"
   ]
  },
  {
   "cell_type": "markdown",
   "id": "6ec1a05e",
   "metadata": {},
   "source": [
    "### 测试数据"
   ]
  },
  {
   "cell_type": "code",
   "execution_count": 4,
   "id": "e05d9a8f",
   "metadata": {},
   "outputs": [],
   "source": [
    "n = 4"
   ]
  },
  {
   "cell_type": "markdown",
   "id": "9ea5e998",
   "metadata": {},
   "source": [
    "### 代码"
   ]
  },
  {
   "cell_type": "markdown",
   "id": "b2743223",
   "metadata": {},
   "source": [
    "说白了就是要决定这次填哪个括号进去，最后填完了就把这个可行的字符串加到返回值里。\n",
    "\n",
    "回溯递归算法。"
   ]
  },
  {
   "cell_type": "code",
   "execution_count": 6,
   "id": "f92a0792",
   "metadata": {},
   "outputs": [],
   "source": [
    "from typing import List\n",
    "\n",
    "class Solution:\n",
    "    def generateParenthesis(self, n: int) -> List[str]:\n",
    "        res = []\n",
    "        num = [n, n]\n",
    "        def dfs(num0, num1, strs):\n",
    "            if num0 == 0:\n",
    "                res.append(strs + \")\" * num1)\n",
    "            else:\n",
    "                if num0 == num1:\n",
    "                    dfs(num0 - 1, num1, strs + \"(\")\n",
    "                else:\n",
    "                    dfs(num0 - 1, num1, strs + \"(\")\n",
    "                    dfs(num0, num1 - 1, strs + \")\")\n",
    "        dfs(n, n, \"\")\n",
    "        return res"
   ]
  },
  {
   "cell_type": "code",
   "execution_count": 7,
   "id": "5e28f448",
   "metadata": {},
   "outputs": [
    {
     "name": "stdout",
     "output_type": "stream",
     "text": [
      "['(((())))', '((()()))', '((())())', '((()))()', '(()(()))', '(()()())', '(()())()', '(())(())', '(())()()', '()((()))', '()(()())', '()(())()', '()()(())', '()()()()']\n"
     ]
    }
   ],
   "source": [
    "solution = Solution()\n",
    "print(solution.generateParenthesis(n))"
   ]
  },
  {
   "cell_type": "markdown",
   "id": "adcd5458",
   "metadata": {},
   "source": [
    "注意这个代码，传入字符串，修改以后并不会改变字符串本身，说明字符串是一个变量，**不是引用变量/地址**。"
   ]
  },
  {
   "cell_type": "markdown",
   "id": "c2960049-ffc5-44cc-811c-4c70b8f03f80",
   "metadata": {
    "jp-MarkdownHeadingCollapsed": true
   },
   "source": [
    "## 7. 字母异位词分组"
   ]
  },
  {
   "cell_type": "markdown",
   "id": "616fbea2-0dfc-41a4-875b-f888ab05d996",
   "metadata": {},
   "source": [
    "给你一个字符串数组，请你将 字母异位词 组合在一起。可以按任意顺序返回结果列表。\n",
    "\n",
    "字母异位词 是由重新排列源单词的所有字母得到的一个新单词。\n",
    "\n",
    " \n",
    "\n",
    "示例 1:\n",
    "\n",
    "> 输入: strs = [\"eat\", \"tea\", \"tan\", \"ate\", \"nat\", \"bat\"]\n",
    "> \n",
    "> 输出: [[\"bat\"],[\"nat\",\"tan\"],[\"ate\",\"eat\",\"tea\"]]\n",
    "\n",
    "示例 2:\n",
    "\n",
    "> 输入: strs = [\"\"]\n",
    "> \n",
    "> 输出: [[\"\"]]\n",
    "\n",
    "示例 3:\n",
    "\n",
    "> 输入: strs = [\"a\"]\n",
    "> \n",
    "> 输出: [[\"a\"]]"
   ]
  },
  {
   "cell_type": "markdown",
   "id": "89370a06-c410-4b73-82a9-c66859e8f6d1",
   "metadata": {},
   "source": [
    "### 测试数据"
   ]
  },
  {
   "cell_type": "code",
   "execution_count": 8,
   "id": "0b4e1ef5-f79f-4183-90a6-bb10e7f8c4d3",
   "metadata": {},
   "outputs": [],
   "source": [
    "strs1 = [\"ddddddddddg\",\"dgggggggggg\"]\n",
    "strs2 = [\"eat\",\"tea\",\"tan\",\"ate\",\"nat\",\"bat\"]"
   ]
  },
  {
   "cell_type": "markdown",
   "id": "8b885568-49c1-4eb2-bf8a-b6757153f067",
   "metadata": {},
   "source": [
    "### 代码"
   ]
  },
  {
   "cell_type": "markdown",
   "id": "5d614a7d-e279-4eb0-9641-bc8895d20d92",
   "metadata": {},
   "source": [
    "一眼哈希，但是哈希表的键和值怎么选，是个问题。这个做一遍就知道了。"
   ]
  },
  {
   "cell_type": "code",
   "execution_count": 6,
   "id": "d7cd07c1-71ed-4767-aef2-7f61c68242eb",
   "metadata": {},
   "outputs": [],
   "source": [
    "'''\n",
    "作者：力扣官方题解\n",
    "链接：https://leetcode.cn/problems/group-anagrams/solutions/520469/zi-mu-yi-wei-ci-fen-zu-by-leetcode-solut-gyoc/\n",
    "'''\n",
    "\n",
    "from typing import List\n",
    "import collections\n",
    "# 由于互为字母异位词的两个字符串包含的字母相同，因此对两个字符串分别进行排序之后得到的字符串一定是相同的，故可以将排序之后的字符串作为哈希表的键。\n",
    "\n",
    "class Solution1:\n",
    "    def groupAnagrams(self, strs: List[str]) -> List[List[str]]:\n",
    "        mp = collections.defaultdict(list)\n",
    "\n",
    "        for st in strs:\n",
    "            key = \"\".join(sorted(st))\n",
    "            mp[key].append(st)\n",
    "        \n",
    "        return list(mp.values())\n",
    "\n",
    "# 由于互为字母异位词的两个字符串包含的字母相同，因此两个字符串中的相同字母出现的次数一定是相同的，故可以将每个字母出现的次数使用字符串表示，作为哈希表的键。\n",
    "class Solution2:\n",
    "    def groupAnagrams(self, strs: List[str]) -> List[List[str]]:\n",
    "        mp = collections.defaultdict(list)\n",
    "\n",
    "        for st in strs:\n",
    "            counts = [0] * 26\n",
    "            for ch in st:\n",
    "                counts[ord(ch) - ord(\"a\")] += 1\n",
    "            # 需要将 list 转换成 tuple 才能进行哈希\n",
    "            mp[tuple(counts)].append(st)\n",
    "        \n",
    "        return list(mp.values())"
   ]
  },
  {
   "cell_type": "code",
   "execution_count": 9,
   "id": "ffb557b6-b127-4446-b060-a7b56b27c572",
   "metadata": {},
   "outputs": [
    {
     "name": "stdout",
     "output_type": "stream",
     "text": [
      "[['ddddddddddg'], ['dgggggggggg']]\n",
      "[['eat', 'tea', 'ate'], ['tan', 'nat'], ['bat']]\n"
     ]
    }
   ],
   "source": [
    "solution1 = Solution1()\n",
    "solution2 = Solution2()\n",
    "print(solution1. groupAnagrams(strs1))\n",
    "print(solution2. groupAnagrams(strs2))"
   ]
  },
  {
   "cell_type": "markdown",
   "id": "46c34cbe-2da1-4d27-82c9-8c2def60ff1b",
   "metadata": {},
   "source": [
    "## 8. 编辑距离"
   ]
  },
  {
   "cell_type": "markdown",
   "id": "60b7cd43-734a-4383-bf38-d47006a8c3f0",
   "metadata": {},
   "source": [
    "给你两个单词 word1 和 word2， 请返回将 word1 转换成 word2 所使用的最少操作数  。\n",
    "\n",
    "你可以对一个单词进行如下三种操作：\n",
    "\n",
    "- 插入一个字符\n",
    "- 删除一个字符\n",
    "- 替换一个字符\n",
    " \n",
    "\n",
    "示例 1：\n",
    "\n",
    "> 输入：word1 = \"horse\", word2 = \"ros\"\n",
    "> \n",
    "> 输出：3\n",
    "> \n",
    "> 解释：\n",
    "> \n",
    "> horse -> rorse (将 'h' 替换为 'r')\n",
    "> \n",
    "> rorse -> rose (删除 'r')\n",
    "> \n",
    "> rose -> ros (删除 'e')\n",
    "\n",
    "示例 2：\n",
    "\n",
    "> < 输入：word1 = \"intention\", word2 = \"execution\"\n",
    ">\n",
    "> < 输出：5\n",
    ">\n",
    ">< 解释：\n",
    ">\n",
    "> intention -> inention (删除 't')\n",
    ">\n",
    "> inention -> enention (将 'i' 替换为 'e')\n",
    ">\n",
    "> enention -> exention (将 'n' 替换为 'x')\n",
    ">\n",
    "> exention -> exection (将 'n' 替换为 'c')\n",
    ">\n",
    "> exection -> execution (插入 'u')"
   ]
  },
  {
   "cell_type": "markdown",
   "id": "bdae302c-7086-4e1d-836c-ae76b72b8234",
   "metadata": {},
   "source": [
    "### 测试数据"
   ]
  },
  {
   "cell_type": "code",
   "execution_count": 1,
   "id": "dc085a5a-0f61-46a5-96f4-b2df1bb6cc2e",
   "metadata": {},
   "outputs": [],
   "source": [
    "word1 = \"intention\"\n",
    "word2 = \"execution\""
   ]
  },
  {
   "cell_type": "markdown",
   "id": "50a27639-f684-4bf8-9c0a-907df0b61f22",
   "metadata": {},
   "source": [
    "### 代码"
   ]
  },
  {
   "cell_type": "markdown",
   "id": "0cafd068-d76c-4182-9579-99bf9fc47e16",
   "metadata": {},
   "source": [
    "完全不会，动态规划题目，第一次做。\n",
    "[动态规划基础](https://oi-wiki.org/dp/basic/)\n",
    "\n",
    "没什么感想，多复习这道题。好好学习题解。"
   ]
  },
  {
   "cell_type": "code",
   "execution_count": 2,
   "id": "c4f31b95-7cfe-4d60-9d1d-ca41ef0df742",
   "metadata": {},
   "outputs": [],
   "source": [
    "class Solution:\n",
    "    def minDistance(self, word1: str, word2: str) -> int:\n",
    "        n = len(word1)\n",
    "        m = len(word2)\n",
    "        \n",
    "        # 有一个字符串为空串\n",
    "        if n * m == 0:\n",
    "            return n + m\n",
    "        \n",
    "        # DP 数组\n",
    "        D = [ [0] * (m + 1) for _ in range(n + 1)]\n",
    "        \n",
    "        # 边界状态初始化\n",
    "        for i in range(n + 1):\n",
    "            D[i][0] = i\n",
    "        for j in range(m + 1):\n",
    "            D[0][j] = j\n",
    "        \n",
    "        # 计算所有 DP 值\n",
    "        for i in range(1, n + 1):\n",
    "            for j in range(1, m + 1):\n",
    "                left = D[i - 1][j] + 1\n",
    "                down = D[i][j - 1] + 1\n",
    "                left_down = D[i - 1][j - 1] \n",
    "                if word1[i - 1] != word2[j - 1]:\n",
    "                    left_down += 1\n",
    "                D[i][j] = min(left, down, left_down)\n",
    "        \n",
    "        return D[n][m]\n",
    "\n",
    "# 作者：力扣官方题解\n",
    "# 链接：https://leetcode.cn/problems/edit-distance/solutions/188223/bian-ji-ju-chi-by-leetcode-solution/"
   ]
  },
  {
   "cell_type": "code",
   "execution_count": 3,
   "id": "4a750d90-8d0e-4533-a3cf-1be48d656a7f",
   "metadata": {},
   "outputs": [
    {
     "name": "stdout",
     "output_type": "stream",
     "text": [
      "5\n"
     ]
    }
   ],
   "source": [
    "solution = Solution()\n",
    "print(solution.minDistance(word1, word2))"
   ]
  },
  {
   "cell_type": "markdown",
   "id": "26131098-0a48-4512-852a-416fe5d745c4",
   "metadata": {},
   "source": [
    "## 9. 单词搜索"
   ]
  },
  {
   "attachments": {
    "0315d560-3420-48d7-9b88-447ab7c2e0e9.png": {
     "image/png": "[encoded data removed]"
    },
    "2a14218d-1a4c-48a7-a46b-d1379b6e5cf3.png": {
     "image/png": "[encoded data removed]"
    },
    "a91bf312-aeda-46cf-a6cf-868722e680eb.png": {
     "image/png": "[encoded data removed]"
    }
   },
   "cell_type": "markdown",
   "id": "1762bf61-c2d1-45e5-bc5b-25fe6fcbecc9",
   "metadata": {},
   "source": [
    "给定一个 m x n 二维字符网格 board 和一个字符串单词 word 。如果 word 存在于网格中，返回 true ；否则，返回 false 。\n",
    "\n",
    "单词必须按照字母顺序，通过相邻的单元格内的字母构成，其中“相邻”单元格是那些水平相邻或垂直相邻的单元格。同一个单元格内的字母不允许被重复使用。\n",
    "\n",
    " \n",
    "\n",
    "示例 1：\n",
    "\n",
    "> ![image.png](attachment:2a14218d-1a4c-48a7-a46b-d1379b6e5cf3.png)\n",
    "> \n",
    "> 输入：board = [[\"A\",\"B\",\"C\",\"E\"],[\"S\",\"F\",\"C\",\"S\"],[\"A\",\"D\",\"E\",\"E\"]], word = \"ABCCED\"\n",
    "> \n",
    "> 输出：true\n",
    "\n",
    "示例 2：\n",
    "\n",
    "> ![image.png](attachment:0315d560-3420-48d7-9b88-447ab7c2e0e9.png)\n",
    "> \n",
    "> 输入：board = [[\"A\",\"B\",\"C\",\"E\"],[\"S\",\"F\",\"C\",\"S\"],[\"A\",\"D\",\"E\",\"E\"]], word = \"SEE\"\n",
    "> \n",
    "> 输出：true\n",
    "\n",
    "示例 3：\n",
    "\n",
    "> ![image.png](attachment:a91bf312-aeda-46cf-a6cf-868722e680eb.png)\n",
    "> \n",
    "> 输入：board = [[\"A\",\"B\",\"C\",\"E\"],[\"S\",\"F\",\"C\",\"S\"],[\"A\",\"D\",\"E\",\"E\"]], word = \"ABCB\"\n",
    "> \n",
    "> 输出：false"
   ]
  },
  {
   "cell_type": "markdown",
   "id": "ad361c93-ba3e-4955-b1db-18d22e1d63ba",
   "metadata": {},
   "source": [
    "### 测试数据"
   ]
  },
  {
   "cell_type": "code",
   "execution_count": 4,
   "id": "ddb53faa-31c7-4a30-aa09-516787510dc9",
   "metadata": {},
   "outputs": [],
   "source": [
    "board = [[\"A\",\"B\",\"C\",\"E\"],[\"S\",\"F\",\"C\",\"S\"],[\"A\",\"D\",\"E\",\"E\"]]\n",
    "word = \"SEE\""
   ]
  },
  {
   "cell_type": "markdown",
   "id": "61073fbf-ea7a-42e6-a994-dfca1a9fef92",
   "metadata": {},
   "source": [
    "### 代码\n",
    "\n",
    "回溯问题"
   ]
  },
  {
   "cell_type": "code",
   "execution_count": 8,
   "id": "497082dd-3ecb-4703-8aba-e4e7f7116005",
   "metadata": {},
   "outputs": [],
   "source": [
    "from typing import List\n",
    "\n",
    "class Solution:\n",
    "    def exist(self, board: List[List[str]], word: str) -> bool:\n",
    "        directions = [(0, 1), (0, -1), (1, 0), (-1, 0)]\n",
    "\n",
    "        def check(i: int, j: int, k: int) -> bool:\n",
    "            if board[i][j] != word[k]:\n",
    "                return False\n",
    "            if k == len(word) - 1:\n",
    "                return True\n",
    "            \n",
    "            visited.add((i, j))\n",
    "            result = False\n",
    "            for di, dj in directions:\n",
    "                newi, newj = i + di, j + dj\n",
    "                if 0 <= newi < len(board) and 0 <= newj < len(board[0]):\n",
    "                    if (newi, newj) not in visited:\n",
    "                        if check(newi, newj, k + 1):\n",
    "                            result = True\n",
    "                            break\n",
    "            \n",
    "            visited.remove((i, j))\n",
    "            return result\n",
    "\n",
    "        h, w = len(board), len(board[0])\n",
    "        visited = set()\n",
    "        for i in range(h):\n",
    "            for j in range(w):\n",
    "                if check(i, j, 0):\n",
    "                    return True\n",
    "        \n",
    "        return False\n",
    "\n",
    "# 作者：力扣官方题解\n",
    "# 链接：https://leetcode.cn/problems/word-search/solutions/411613/dan-ci-sou-suo-by-leetcode-solution/"
   ]
  },
  {
   "cell_type": "code",
   "execution_count": 9,
   "id": "5547e2bc-6be4-43c0-bdcc-80ad3c0f9c3e",
   "metadata": {},
   "outputs": [
    {
     "name": "stdout",
     "output_type": "stream",
     "text": [
      "True\n"
     ]
    }
   ],
   "source": [
    "solution = Solution()\n",
    "print(solution.exist(board, word))"
   ]
  },
  {
   "cell_type": "code",
   "execution_count": null,
   "id": "93d77eef-13c2-48d4-8f02-46724b2cabf0",
   "metadata": {},
   "outputs": [],
   "source": []
  }
 ],
 "metadata": {
  "kernelspec": {
   "display_name": "pytorch221",
   "language": "python",
   "name": "pytorch221"
  },
  "language_info": {
   "codemirror_mode": {
    "name": "ipython",
    "version": 3
   },
   "file_extension": ".py",
   "mimetype": "text/x-python",
   "name": "python",
   "nbconvert_exporter": "python",
   "pygments_lexer": "ipython3",
   "version": "3.12.2"
  }
 },
 "nbformat": 4,
 "nbformat_minor": 5
}
