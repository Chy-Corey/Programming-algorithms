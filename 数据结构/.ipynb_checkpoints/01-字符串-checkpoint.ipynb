{
 "cells": [
  {
   "cell_type": "markdown",
   "id": "6696c37c",
   "metadata": {
    "jp-MarkdownHeadingCollapsed": true
   },
   "source": [
    "## 1. 无重复字符串的最长子串"
   ]
  },
  {
   "cell_type": "markdown",
   "id": "480f2083",
   "metadata": {},
   "source": [
    "`中等`\n",
    "\n",
    "给定一个字符串 s ，请你找出其中不含有重复字符的最长子串的长度。\n",
    "\n",
    " \n",
    "\n",
    "示例 1:\n",
    "\n",
    "> 输入: s = \"abcabcbb\"\n",
    "> \n",
    "> 输出: 3 \n",
    "> \n",
    "> 解释: 因为无重复字符的最长子串是 \"abc\"，所以其长度为 3。\n",
    "\n",
    "示例 2:\n",
    "\n",
    "> 输入: s = \"bbbbb\"\n",
    ">\n",
    "> 输出: 1\n",
    ">\n",
    "> 解释: 因为无重复字符的最长子串是 \"b\"，所以其长度为 1。\n",
    "\n",
    "示例 3:\n",
    "\n",
    "> 输入: s = \"pwwkew\"\n",
    ">\n",
    "> 输出: 3\n",
    ">\n",
    "> 解释: 因为无重复字符的最长子串是 \"wke\"，所以其长度为 3。请注意，你的答案必须是 子串 的长度，\"pwke\" 是一个子序列，不是子串。"
   ]
  },
  {
   "cell_type": "markdown",
   "id": "1836861a",
   "metadata": {},
   "source": [
    "### 测试数据"
   ]
  },
  {
   "cell_type": "code",
   "execution_count": 1,
   "id": "78a82f1b",
   "metadata": {},
   "outputs": [],
   "source": [
    "s1 = \"abcabcbb\"  # 3\n",
    "s2 = \"pwwkew\"    # 3\n",
    "s3 = \"bbbbb\"     # 1"
   ]
  },
  {
   "cell_type": "markdown",
   "id": "e5d2ec2b",
   "metadata": {},
   "source": [
    "### 代码"
   ]
  },
  {
   "cell_type": "markdown",
   "id": "b7a66a89",
   "metadata": {},
   "source": [
    "初始想法是用双指针，一个在前面滑，如果有重复字符，就让后面的往前滑。看了题解发现这种方法叫做滑动窗口："
   ]
  },
  {
   "cell_type": "code",
   "execution_count": 4,
   "id": "baedc4d1",
   "metadata": {},
   "outputs": [],
   "source": [
    "from collections import defaultdict\n",
    "\n",
    "class Solution1:\n",
    "    def lengthOfLongestSubstring(self, s: str) -> int:\n",
    "        # 建立哈希表\n",
    "        hashDict = defaultdict(int)\n",
    "        # 统计最大长度\n",
    "        maxLength = 0\n",
    "        # 右侧指针位置初始化\n",
    "        right = 0\n",
    "        \n",
    "        for i in range(len(s)):\n",
    "            curLength = right - i\n",
    "            for j in range(right, len(s)):\n",
    "                hashDict[s[j]] += 1\n",
    "                curLength += 1\n",
    "                \n",
    "                # 如果哈希表里已经有了这个字符，就要把右侧指针移回来\n",
    "                # 然后进入下一次循环（左指针右移一格）\n",
    "                if hashDict[s[j]] == 2:\n",
    "                    curLength -= 1\n",
    "                    maxLength = max(maxLength, curLength)\n",
    "                    hashDict[s[i]] -= 1\n",
    "                    hashDict[s[j]] -= 1\n",
    "                    right = j\n",
    "\n",
    "                    break\n",
    "                maxLength = max(maxLength, curLength)\n",
    "\n",
    "        \n",
    "        return maxLength"
   ]
  },
  {
   "cell_type": "code",
   "execution_count": 5,
   "id": "92f701dc",
   "metadata": {},
   "outputs": [
    {
     "name": "stdout",
     "output_type": "stream",
     "text": [
      "3 3 1\n"
     ]
    }
   ],
   "source": [
    "solution1 = Solution1()\n",
    "print(solution1.lengthOfLongestSubstring(s1), solution1.lengthOfLongestSubstring(s2), solution1.lengthOfLongestSubstring(s3))"
   ]
  },
  {
   "cell_type": "markdown",
   "id": "24359b8a",
   "metadata": {},
   "source": [
    "提交以后，发现速度非常慢。回顾代码后发现：**如果哈希表里已经有了这个字符，就要把右侧指针移回来，然后进入下一次循环（左指针右移一格）** 这个思路是非常耗时的。倒不如直接保留右侧指针的位置，移动左侧指针，这样就不用一直移动右侧指针来回跑。\n",
    "\n",
    "总结一下就是双指针最好不要有指针回头的动作，非常耗时。"
   ]
  },
  {
   "cell_type": "markdown",
   "id": "f06f343c",
   "metadata": {},
   "source": [
    "改进后的代码："
   ]
  },
  {
   "cell_type": "code",
   "execution_count": 8,
   "id": "bd2f5f5a",
   "metadata": {},
   "outputs": [],
   "source": [
    "class Solution2:\n",
    "    def lengthOfLongestSubstring(self, s: str) -> int:\n",
    "        # 哈希集合，记录每个字符是否出现过\n",
    "        occ = set()\n",
    "        n = len(s)\n",
    "        # 右指针，初始值为 -1，相当于我们在字符串的左边界的左侧，还没有开始移动\n",
    "        rk, ans = -1, 0\n",
    "        for i in range(n):\n",
    "            if i != 0:\n",
    "                # 左指针向右移动一格，移除一个字符\n",
    "                occ.remove(s[i - 1])\n",
    "            while rk + 1 < n and s[rk + 1] not in occ:\n",
    "                # 不断地移动右指针\n",
    "                occ.add(s[rk + 1])\n",
    "                rk += 1\n",
    "            # 第 i 到 rk 个字符是一个极长的无重复字符子串\n",
    "            ans = max(ans, rk - i + 1)\n",
    "        return ans"
   ]
  },
  {
   "cell_type": "code",
   "execution_count": 9,
   "id": "c6a9f95a",
   "metadata": {},
   "outputs": [
    {
     "name": "stdout",
     "output_type": "stream",
     "text": [
      "3 3 1\n"
     ]
    }
   ],
   "source": [
    "solution2 = Solution2()\n",
    "print(solution2.lengthOfLongestSubstring(s1), solution2.lengthOfLongestSubstring(s2), solution2.lengthOfLongestSubstring(s3))"
   ]
  },
  {
   "cell_type": "markdown",
   "id": "74d0035f-d44e-4498-bdf0-b220fcbf7b64",
   "metadata": {},
   "source": [
    "## 2. 最长回文字符串"
   ]
  },
  {
   "cell_type": "markdown",
   "id": "951cfc4b-94d4-45cd-adc3-8b7756e6e83e",
   "metadata": {},
   "source": [
    "`中等`\n",
    "\n",
    "给你一个字符串 s，找到 s 中最长的 \n",
    "回文子串。\n",
    "\n",
    "示例 1：\n",
    "\n",
    "> 输入：s = \"babad\"\n",
    "> \n",
    "> 输出：\"bab\"\n",
    "> \n",
    "> 解释：\"aba\" 同样是符合题意的答案。\n",
    "\n",
    "示例 2：\n",
    "\n",
    "> 输入：s = \"cbbd\"\n",
    "> \n",
    "> 输出：\"bb\""
   ]
  },
  {
   "cell_type": "markdown",
   "id": "11d80b7e-c45c-4ec4-a03c-271b481e5118",
   "metadata": {},
   "source": [
    "### 测试数据"
   ]
  },
  {
   "cell_type": "code",
   "execution_count": 3,
   "id": "6cdf3311-d10d-4e9e-8080-ced501d3b0b4",
   "metadata": {},
   "outputs": [],
   "source": [
    "s = \"babad\""
   ]
  },
  {
   "cell_type": "markdown",
   "id": "e9bd09ba-0f6c-410e-8148-7652262821d9",
   "metadata": {},
   "source": [
    "### 代码"
   ]
  },
  {
   "cell_type": "markdown",
   "id": "c2511958-5942-4b51-acdc-a3a78c0db9e9",
   "metadata": {},
   "source": [
    "#### 方法 1 \n",
    "先判断长度为 2 的字串是不是回文，再增加到长度为 3 进行判断，直到长度为 n 。\n",
    "\n",
    "官解称之为动态规划。"
   ]
  },
  {
   "cell_type": "code",
   "execution_count": 8,
   "id": "f1f1e04b",
   "metadata": {},
   "outputs": [],
   "source": [
    "class Solution1:\n",
    "    def longestPalindrome(self, s: str) -> str:\n",
    "        n = len(s)\n",
    "        if n < 2:\n",
    "            return s\n",
    "        \n",
    "        max_len = 1\n",
    "        begin = 0\n",
    "        # dp[i][j] 表示 s[i..j] 是否是回文串\n",
    "        dp = [[False] * n for _ in range(n)]\n",
    "        for i in range(n):\n",
    "            dp[i][i] = True\n",
    "        \n",
    "        # 递推开始\n",
    "        # 先枚举子串长度\n",
    "        for L in range(2, n + 1):\n",
    "            # 枚举左边界，左边界的上限设置可以宽松一些\n",
    "            for i in range(n):\n",
    "                # 由 L 和 i 可以确定右边界，即 j - i + 1 = L 得\n",
    "                j = L + i - 1\n",
    "                # 如果右边界越界，就可以退出当前循环\n",
    "                if j >= n:\n",
    "                    break\n",
    "                    \n",
    "                if s[i] != s[j]:\n",
    "                    dp[i][j] = False \n",
    "                else:\n",
    "                    if j - i < 3:\n",
    "                        dp[i][j] = True\n",
    "                    else:\n",
    "                        dp[i][j] = dp[i + 1][j - 1]\n",
    "                \n",
    "                # 只要 dp[i][L] == true 成立，就表示子串 s[i..L] 是回文，此时记录回文长度和起始位置\n",
    "                if dp[i][j] and j - i + 1 > max_len:\n",
    "                    max_len = j - i + 1\n",
    "                    begin = i\n",
    "        return s[begin:begin + max_len]"
   ]
  },
  {
   "cell_type": "code",
   "execution_count": 9,
   "id": "34ed7c3c",
   "metadata": {},
   "outputs": [
    {
     "name": "stdout",
     "output_type": "stream",
     "text": [
      "bab\n"
     ]
    }
   ],
   "source": [
    "solution1 = Solution1()\n",
    "print(solution1.longestPalindrome(s))"
   ]
  },
  {
   "cell_type": "code",
   "execution_count": null,
   "id": "62d3ce84",
   "metadata": {},
   "outputs": [],
   "source": []
  }
 ],
 "metadata": {
  "kernelspec": {
   "display_name": "Python 3 (ipykernel)",
   "language": "python",
   "name": "python3"
  },
  "language_info": {
   "codemirror_mode": {
    "name": "ipython",
    "version": 3
   },
   "file_extension": ".py",
   "mimetype": "text/x-python",
   "name": "python",
   "nbconvert_exporter": "python",
   "pygments_lexer": "ipython3",
   "version": "3.9.7"
  }
 },
 "nbformat": 4,
 "nbformat_minor": 5
}
