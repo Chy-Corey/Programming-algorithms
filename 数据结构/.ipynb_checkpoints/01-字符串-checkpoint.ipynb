{
 "cells": [
  {
   "cell_type": "markdown",
   "id": "6696c37c",
   "metadata": {},
   "source": [
    "## 1. 无重复字符串的最长子串"
   ]
  },
  {
   "cell_type": "markdown",
   "id": "480f2083",
   "metadata": {},
   "source": [
    "`中等`\n",
    "\n",
    "给定一个字符串 s ，请你找出其中不含有重复字符的最长子串的长度。\n",
    "\n",
    " \n",
    "\n",
    "示例 1:\n",
    "\n",
    "> 输入: s = \"abcabcbb\"\n",
    "> \n",
    "> 输出: 3 \n",
    "> \n",
    "> 解释: 因为无重复字符的最长子串是 \"abc\"，所以其长度为 3。\n",
    "\n",
    "示例 2:\n",
    "\n",
    "> 输入: s = \"bbbbb\"\n",
    ">\n",
    "> 输出: 1\n",
    ">\n",
    "> 解释: 因为无重复字符的最长子串是 \"b\"，所以其长度为 1。\n",
    "\n",
    "示例 3:\n",
    "\n",
    "> 输入: s = \"pwwkew\"\n",
    ">\n",
    "> 输出: 3\n",
    ">\n",
    "> 解释: 因为无重复字符的最长子串是 \"wke\"，所以其长度为 3。请注意，你的答案必须是 子串 的长度，\"pwke\" 是一个子序列，不是子串。"
   ]
  },
  {
   "cell_type": "markdown",
   "id": "1836861a",
   "metadata": {},
   "source": [
    "### 测试数据"
   ]
  },
  {
   "cell_type": "code",
   "execution_count": 1,
   "id": "78a82f1b",
   "metadata": {},
   "outputs": [],
   "source": [
    "s1 = \"abcabcbb\"  # 3\n",
    "s2 = \"pwwkew\"    # 3\n",
    "s3 = \"bbbbb\"     # 1"
   ]
  },
  {
   "cell_type": "markdown",
   "id": "e5d2ec2b",
   "metadata": {},
   "source": [
    "### 代码"
   ]
  },
  {
   "cell_type": "markdown",
   "id": "b7a66a89",
   "metadata": {},
   "source": [
    "初始想法是用双指针，一个在前面滑，如果有重复字符，就让后面的往前滑。看了题解发现这种方法叫做滑动窗口："
   ]
  },
  {
   "cell_type": "code",
   "execution_count": 4,
   "id": "baedc4d1",
   "metadata": {},
   "outputs": [],
   "source": [
    "from collections import defaultdict\n",
    "\n",
    "class Solution1:\n",
    "    def lengthOfLongestSubstring(self, s: str) -> int:\n",
    "        # 建立哈希表\n",
    "        hashDict = defaultdict(int)\n",
    "        # 统计最大长度\n",
    "        maxLength = 0\n",
    "        # 右侧指针位置初始化\n",
    "        right = 0\n",
    "        \n",
    "        for i in range(len(s)):\n",
    "            curLength = right - i\n",
    "            for j in range(right, len(s)):\n",
    "                hashDict[s[j]] += 1\n",
    "                curLength += 1\n",
    "                \n",
    "                # 如果哈希表里已经有了这个字符，就要把右侧指针移回来\n",
    "                # 然后进入下一次循环（左指针右移一格）\n",
    "                if hashDict[s[j]] == 2:\n",
    "                    curLength -= 1\n",
    "                    maxLength = max(maxLength, curLength)\n",
    "                    hashDict[s[i]] -= 1\n",
    "                    hashDict[s[j]] -= 1\n",
    "                    right = j\n",
    "\n",
    "                    break\n",
    "                maxLength = max(maxLength, curLength)\n",
    "\n",
    "        \n",
    "        return maxLength"
   ]
  },
  {
   "cell_type": "code",
   "execution_count": 5,
   "id": "92f701dc",
   "metadata": {},
   "outputs": [
    {
     "name": "stdout",
     "output_type": "stream",
     "text": [
      "3 3 1\n"
     ]
    }
   ],
   "source": [
    "solution1 = Solution1()\n",
    "print(solution1.lengthOfLongestSubstring(s1), solution1.lengthOfLongestSubstring(s2), solution1.lengthOfLongestSubstring(s3))"
   ]
  },
  {
   "cell_type": "markdown",
   "id": "24359b8a",
   "metadata": {},
   "source": [
    "提交以后，发现速度非常慢。回顾代码后发现：**如果哈希表里已经有了这个字符，就要把右侧指针移回来，然后进入下一次循环（左指针右移一格）** 这个思路是非常耗时的。倒不如直接保留右侧指针的位置，移动左侧指针，这样就不用一直移动右侧指针来回跑。\n",
    "\n",
    "总结一下就是双指针最好不要有指针回头的动作，非常耗时。"
   ]
  },
  {
   "cell_type": "markdown",
   "id": "f06f343c",
   "metadata": {},
   "source": [
    "改进后的代码："
   ]
  },
  {
   "cell_type": "code",
   "execution_count": 8,
   "id": "bd2f5f5a",
   "metadata": {},
   "outputs": [],
   "source": [
    "class Solution2:\n",
    "    def lengthOfLongestSubstring(self, s: str) -> int:\n",
    "        # 哈希集合，记录每个字符是否出现过\n",
    "        occ = set()\n",
    "        n = len(s)\n",
    "        # 右指针，初始值为 -1，相当于我们在字符串的左边界的左侧，还没有开始移动\n",
    "        rk, ans = -1, 0\n",
    "        for i in range(n):\n",
    "            if i != 0:\n",
    "                # 左指针向右移动一格，移除一个字符\n",
    "                occ.remove(s[i - 1])\n",
    "            while rk + 1 < n and s[rk + 1] not in occ:\n",
    "                # 不断地移动右指针\n",
    "                occ.add(s[rk + 1])\n",
    "                rk += 1\n",
    "            # 第 i 到 rk 个字符是一个极长的无重复字符子串\n",
    "            ans = max(ans, rk - i + 1)\n",
    "        return ans"
   ]
  },
  {
   "cell_type": "code",
   "execution_count": 9,
   "id": "c6a9f95a",
   "metadata": {},
   "outputs": [
    {
     "name": "stdout",
     "output_type": "stream",
     "text": [
      "3 3 1\n"
     ]
    }
   ],
   "source": [
    "solution2 = Solution2()\n",
    "print(solution2.lengthOfLongestSubstring(s1), solution2.lengthOfLongestSubstring(s2), solution2.lengthOfLongestSubstring(s3))"
   ]
  },
  {
   "cell_type": "code",
   "execution_count": null,
   "id": "b45c0218",
   "metadata": {},
   "outputs": [],
   "source": []
  }
 ],
 "metadata": {
  "kernelspec": {
   "display_name": "Python 3 (ipykernel)",
   "language": "python",
   "name": "python3"
  },
  "language_info": {
   "codemirror_mode": {
    "name": "ipython",
    "version": 3
   },
   "file_extension": ".py",
   "mimetype": "text/x-python",
   "name": "python",
   "nbconvert_exporter": "python",
   "pygments_lexer": "ipython3",
   "version": "3.9.7"
  }
 },
 "nbformat": 4,
 "nbformat_minor": 5
}
